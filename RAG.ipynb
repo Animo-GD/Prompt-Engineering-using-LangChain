{
 "cells": [
  {
   "cell_type": "markdown",
   "id": "d2d02299",
   "metadata": {},
   "source": [
    "# RAG"
   ]
  },
  {
   "cell_type": "code",
   "execution_count": 1,
   "id": "abec702f",
   "metadata": {},
   "outputs": [],
   "source": [
    "from langchain_ollama import OllamaLLM\n",
    "import pandas as pd\n",
    "from langchain.document_loaders import DataFrameLoader"
   ]
  },
  {
   "cell_type": "markdown",
   "id": "6a9ed5d1",
   "metadata": {},
   "source": [
    "## Loaders"
   ]
  },
  {
   "cell_type": "markdown",
   "id": "2280c12f",
   "metadata": {},
   "source": [
    "### 1. Pandas"
   ]
  },
  {
   "cell_type": "code",
   "execution_count": 2,
   "id": "61746ad9",
   "metadata": {},
   "outputs": [
    {
     "data": {
      "text/html": [
       "<div>\n",
       "<style scoped>\n",
       "    .dataframe tbody tr th:only-of-type {\n",
       "        vertical-align: middle;\n",
       "    }\n",
       "\n",
       "    .dataframe tbody tr th {\n",
       "        vertical-align: top;\n",
       "    }\n",
       "\n",
       "    .dataframe thead th {\n",
       "        text-align: right;\n",
       "    }\n",
       "</style>\n",
       "<table border=\"1\" class=\"dataframe\">\n",
       "  <thead>\n",
       "    <tr style=\"text-align: right;\">\n",
       "      <th></th>\n",
       "      <th>RANK</th>\n",
       "      <th>GRADE</th>\n",
       "      <th>NAME</th>\n",
       "      <th>VIDEOS</th>\n",
       "      <th>SUBSCRIBERS</th>\n",
       "      <th>VIEWES</th>\n",
       "    </tr>\n",
       "  </thead>\n",
       "  <tbody>\n",
       "    <tr>\n",
       "      <th>0</th>\n",
       "      <td>1</td>\n",
       "      <td>A++</td>\n",
       "      <td>T-Series</td>\n",
       "      <td>13629</td>\n",
       "      <td>105783888</td>\n",
       "      <td>76945588449</td>\n",
       "    </tr>\n",
       "    <tr>\n",
       "      <th>1</th>\n",
       "      <td>2</td>\n",
       "      <td>A</td>\n",
       "      <td>PewDiePie</td>\n",
       "      <td>3898</td>\n",
       "      <td>97853589</td>\n",
       "      <td>22298927681</td>\n",
       "    </tr>\n",
       "    <tr>\n",
       "      <th>2</th>\n",
       "      <td>3</td>\n",
       "      <td>A+</td>\n",
       "      <td>5-Minute Crafts</td>\n",
       "      <td>3341</td>\n",
       "      <td>58629572</td>\n",
       "      <td>14860695079</td>\n",
       "    </tr>\n",
       "    <tr>\n",
       "      <th>3</th>\n",
       "      <td>4</td>\n",
       "      <td>A++</td>\n",
       "      <td>Cocomelon - Nursery Rhymes</td>\n",
       "      <td>441</td>\n",
       "      <td>53163816</td>\n",
       "      <td>33519273951</td>\n",
       "    </tr>\n",
       "    <tr>\n",
       "      <th>4</th>\n",
       "      <td>5</td>\n",
       "      <td>A++</td>\n",
       "      <td>SET India</td>\n",
       "      <td>31923</td>\n",
       "      <td>51784081</td>\n",
       "      <td>36464793233</td>\n",
       "    </tr>\n",
       "  </tbody>\n",
       "</table>\n",
       "</div>"
      ],
      "text/plain": [
       "   RANK GRADE                        NAME  VIDEOS  SUBSCRIBERS       VIEWES\n",
       "0     1   A++                    T-Series   13629    105783888  76945588449\n",
       "1     2     A                   PewDiePie    3898     97853589  22298927681\n",
       "2     3    A+             5-Minute Crafts    3341     58629572  14860695079\n",
       "3     4   A++  Cocomelon - Nursery Rhymes     441     53163816  33519273951\n",
       "4     5   A++                   SET India   31923     51784081  36464793233"
      ]
     },
     "execution_count": 2,
     "metadata": {},
     "output_type": "execute_result"
    }
   ],
   "source": [
    "df = pd.read_csv(\"youtube.csv\")\n",
    "df.head()"
   ]
  },
  {
   "cell_type": "code",
   "execution_count": 3,
   "id": "a5e9d3c1",
   "metadata": {},
   "outputs": [
    {
     "data": {
      "text/html": [
       "<div>\n",
       "<style scoped>\n",
       "    .dataframe tbody tr th:only-of-type {\n",
       "        vertical-align: middle;\n",
       "    }\n",
       "\n",
       "    .dataframe tbody tr th {\n",
       "        vertical-align: top;\n",
       "    }\n",
       "\n",
       "    .dataframe thead th {\n",
       "        text-align: right;\n",
       "    }\n",
       "</style>\n",
       "<table border=\"1\" class=\"dataframe\">\n",
       "  <thead>\n",
       "    <tr style=\"text-align: right;\">\n",
       "      <th></th>\n",
       "      <th>NAME</th>\n",
       "      <th>VIDEOS</th>\n",
       "      <th>SUBSCRIBERS</th>\n",
       "      <th>VIEWES</th>\n",
       "    </tr>\n",
       "  </thead>\n",
       "  <tbody>\n",
       "    <tr>\n",
       "      <th>0</th>\n",
       "      <td>T-Series</td>\n",
       "      <td>13629</td>\n",
       "      <td>105783888</td>\n",
       "      <td>76945588449</td>\n",
       "    </tr>\n",
       "    <tr>\n",
       "      <th>1</th>\n",
       "      <td>PewDiePie</td>\n",
       "      <td>3898</td>\n",
       "      <td>97853589</td>\n",
       "      <td>22298927681</td>\n",
       "    </tr>\n",
       "    <tr>\n",
       "      <th>2</th>\n",
       "      <td>5-Minute Crafts</td>\n",
       "      <td>3341</td>\n",
       "      <td>58629572</td>\n",
       "      <td>14860695079</td>\n",
       "    </tr>\n",
       "    <tr>\n",
       "      <th>3</th>\n",
       "      <td>Cocomelon - Nursery Rhymes</td>\n",
       "      <td>441</td>\n",
       "      <td>53163816</td>\n",
       "      <td>33519273951</td>\n",
       "    </tr>\n",
       "    <tr>\n",
       "      <th>4</th>\n",
       "      <td>SET India</td>\n",
       "      <td>31923</td>\n",
       "      <td>51784081</td>\n",
       "      <td>36464793233</td>\n",
       "    </tr>\n",
       "  </tbody>\n",
       "</table>\n",
       "</div>"
      ],
      "text/plain": [
       "                         NAME  VIDEOS  SUBSCRIBERS       VIEWES\n",
       "0                    T-Series   13629    105783888  76945588449\n",
       "1                   PewDiePie    3898     97853589  22298927681\n",
       "2             5-Minute Crafts    3341     58629572  14860695079\n",
       "3  Cocomelon - Nursery Rhymes     441     53163816  33519273951\n",
       "4                   SET India   31923     51784081  36464793233"
      ]
     },
     "execution_count": 3,
     "metadata": {},
     "output_type": "execute_result"
    }
   ],
   "source": [
    "df = df.iloc[:,2:]\n",
    "df.head()"
   ]
  },
  {
   "cell_type": "code",
   "execution_count": 4,
   "id": "96687e8d",
   "metadata": {},
   "outputs": [
    {
     "data": {
      "text/plain": [
       "[Document(metadata={'VIDEOS': 13629, 'SUBSCRIBERS': 105783888, 'VIEWES': 76945588449}, page_content='T-Series'),\n",
       " Document(metadata={'VIDEOS': 3898, 'SUBSCRIBERS': 97853589, 'VIEWES': 22298927681}, page_content='PewDiePie'),\n",
       " Document(metadata={'VIDEOS': 3341, 'SUBSCRIBERS': 58629572, 'VIEWES': 14860695079}, page_content='5-Minute Crafts'),\n",
       " Document(metadata={'VIDEOS': 441, 'SUBSCRIBERS': 53163816, 'VIEWES': 33519273951}, page_content='Cocomelon - Nursery Rhymes'),\n",
       " Document(metadata={'VIDEOS': 31923, 'SUBSCRIBERS': 51784081, 'VIEWES': 36464793233}, page_content='SET India'),\n",
       " Document(metadata={'VIDEOS': 1100, 'SUBSCRIBERS': 50560964, 'VIEWES': 25446405744}, page_content='Canal KondZilla'),\n",
       " Document(metadata={'VIDEOS': 42404, 'SUBSCRIBERS': 46098586, 'VIEWES': 34085586984}, page_content='WWE'),\n",
       " Document(metadata={'VIDEOS': 134, 'SUBSCRIBERS': 45873439, 'VIEWES': 625649566}, page_content='Justin Bieber'),\n",
       " Document(metadata={'VIDEOS': 209, 'SUBSCRIBERS': 43796634, 'VIEWES': 8354321862}, page_content='Dude Perfect'),\n",
       " Document(metadata={'VIDEOS': 4406, 'SUBSCRIBERS': 41131131, 'VIEWES': 13175713909}, page_content='Badabun'),\n",
       " Document(metadata={'VIDEOS': 151, 'SUBSCRIBERS': 40883164, 'VIEWES': 17420235764}, page_content='Ed Sheeran'),\n",
       " Document(metadata={'VIDEOS': 4305, 'SUBSCRIBERS': 40675210, 'VIEWES': 18597258212}, page_content='Zee Music Company'),\n",
       " Document(metadata={'VIDEOS': 137, 'SUBSCRIBERS': 39549835, 'VIEWES': 3963774207}, page_content='HolaSoyGerman.'),\n",
       " Document(metadata={'VIDEOS': 117, 'SUBSCRIBERS': 38321579, 'VIEWES': 723182792}, page_content='EminemMusic'),\n",
       " Document(metadata={'VIDEOS': 323, 'SUBSCRIBERS': 36937062, 'VIEWES': 6495653129}, page_content='Marshmello'),\n",
       " Document(metadata={'VIDEOS': 128, 'SUBSCRIBERS': 36748165, 'VIEWES': 852378143}, page_content='Ariana Grande'),\n",
       " Document(metadata={'VIDEOS': 363, 'SUBSCRIBERS': 36059417, 'VIEWES': 2965932071}, page_content='whinderssonnunes'),\n",
       " Document(metadata={'VIDEOS': 1635, 'SUBSCRIBERS': 35648722, 'VIEWES': 9524890177}, page_content='JuegaGerman'),\n",
       " Document(metadata={'VIDEOS': 809, 'SUBSCRIBERS': 35324033, 'VIEWES': 7772447040}, page_content='elrubiusOMG'),\n",
       " Document(metadata={'VIDEOS': 166, 'SUBSCRIBERS': 34920060, 'VIEWES': 255089844}, page_content='Taylor Swift'),\n",
       " Document(metadata={'VIDEOS': 97, 'SUBSCRIBERS': 34416819, 'VIEWES': 361332307}, page_content='Katy Perry'),\n",
       " Document(metadata={'VIDEOS': 1872, 'SUBSCRIBERS': 33549096, 'VIEWES': 7458531306}, page_content='Felipe Neto'),\n",
       " Document(metadata={'VIDEOS': 122, 'SUBSCRIBERS': 33514535, 'VIEWES': 18873475304}, page_content='JustinBieberVEVO'),\n",
       " Document(metadata={'VIDEOS': 534, 'SUBSCRIBERS': 33378699, 'VIEWES': 7201866552}, page_content='Fernanfloo'),\n",
       " Document(metadata={'VIDEOS': 10542, 'SUBSCRIBERS': 33362512, 'VIEWES': 16519572219}, page_content='TheEllenShow')]"
      ]
     },
     "execution_count": 4,
     "metadata": {},
     "output_type": "execute_result"
    }
   ],
   "source": [
    "llm_data = llm_loader = DataFrameLoader(\n",
    "    data_frame=df,\n",
    "    page_content_column=\"NAME\"\n",
    ").load()\n",
    "llm_data"
   ]
  },
  {
   "cell_type": "code",
   "execution_count": 5,
   "id": "77849806",
   "metadata": {},
   "outputs": [
    {
     "data": {
      "text/plain": [
       "{'id': None,\n",
       " 'metadata': {'VIDEOS': 13629,\n",
       "  'SUBSCRIBERS': 105783888,\n",
       "  'VIEWES': 76945588449},\n",
       " 'page_content': 'T-Series',\n",
       " 'type': 'Document'}"
      ]
     },
     "execution_count": 5,
     "metadata": {},
     "output_type": "execute_result"
    }
   ],
   "source": [
    "llm_data[0].model_dump()"
   ]
  },
  {
   "cell_type": "markdown",
   "id": "1357be5c",
   "metadata": {},
   "source": [
    "### 2. URLs"
   ]
  },
  {
   "cell_type": "code",
   "execution_count": 6,
   "id": "481f40ff",
   "metadata": {},
   "outputs": [],
   "source": [
    "from langchain.document_loaders import UnstructuredURLLoader\n",
    "urls = [\n",
    "    \"https://www.apple.com/in/support/products/faqs.html\",\n",
    "    \"https://www.apple.com/legal/sales-support/\",\n",
    "]\n",
    "\n",
    "llm_loader = UnstructuredURLLoader(urls=urls)\n",
    "llm_data = llm_loader.load()"
   ]
  },
  {
   "cell_type": "code",
   "execution_count": 7,
   "id": "53ed88f0",
   "metadata": {},
   "outputs": [
    {
     "name": "stdout",
     "output_type": "stream",
     "text": [
      "page_content='Frequently Asked Questions\n",
      "\n",
      "Where can I purchase the AppleCare Protection Plan?\n",
      "\n",
      "The AppleCare Protection Plan is available at the Apple Online Store and many Apple-authorised resellers and wireless service providers.\n",
      "\n",
      "How do I initiate repair service under the AppleCare Protection Plan?\n",
      "\n",
      "Carry-in service. Carry your product into an Apple Authorised Service Provider.\n",
      "\n",
      "Onsite service. Contact us and we’ll help you arrange an Apple-authorised repair for your desktop Mac at your location, at no additional charge.\n",
      "\n",
      "Do-It-Yourself service. Contact us and we may be able to send you what you need to service your own product, such as accessories.\n",
      "\n",
      "The AppleCare Protection Plan for Mac, for iPod and for Apple TV provide global repair coverage. Service will be limited to the options available in the country where service is requested. Service options, parts availability and response times vary by country.\n",
      "\n",
      "All repairs will be completed using genuine Apple parts for repair service. All repairs are performed by Apple-authorised technicians.\n",
      "\n",
      "Please see the AppleCare Protection Plan Terms and Conditions for complete details.\n",
      "\n",
      "Is the AppleCare Protection Plan transferable?\n",
      "\n",
      "Yes. If you choose to sell or give away your Apple product, you can also transfer the ownership of the AppleCare Protection Plan. Please see the Terms and Conditions for complete details.\n",
      "\n",
      "When I purchase the AppleCare Protection Plan, do I need to register it?\n",
      "\n",
      "In most cases, if you purchase the AppleCare Protection Plan at the same time as your Apple hardware from selected Apple resellers, you will not need to register it as your AppleCare agreement will be automatically registered.\n",
      "\n",
      "With automatic registration, you will receive a proof of coverage, either immediately in the form of a receipt that indicates the end date of your AppleCare product coverage, or within 30 days in the form of a Proof of Coverage certificate.\n",
      "\n",
      "You’ll need to register your AppleCare Protection Plan only if you purchase the plan and your covered product separately, or if you purchase your hardware from a reseller who does not automatically register the plan.\n",
      "\n",
      "You can register your AppleCare Protection Plan here or contact Apple at the phone number included in your AppleCare Protection Plan package. To verify that your hardware is covered under the AppleCare Protection Plan, click here. The registration process can take up to 24 hours to be visible in Apple’s systems.\n",
      "\n",
      "For example, after you register, Apple will have your hardware, AppleCare Protection Plan and personal contact information on file. When you contact Apple for service or support, Apple can access your information straight away and start addressing your issue, rather than spending time verifying your eligibility.\n",
      "\n",
      "How can I verify how much coverage I have left?\n",
      "\n",
      "You can verify your coverage here.\n",
      "\n",
      "More ways to shop: Find an Apple Store or other retailer near you. Or call 000800 040 1966.\n",
      "\n",
      "India\n",
      "\n",
      "Copyright © 2025 Apple Inc. All rights reserved.\n",
      "\n",
      "Privacy Policy\n",
      "\n",
      "Terms of Use\n",
      "\n",
      "Sales Policy\n",
      "\n",
      "Legal\n",
      "\n",
      "Site Map' metadata={'source': 'https://www.apple.com/in/support/products/faqs.html'}\n"
     ]
    }
   ],
   "source": [
    "print(llm_data[0])"
   ]
  },
  {
   "cell_type": "markdown",
   "id": "5329751c",
   "metadata": {},
   "source": [
    "### 3. WikiPedia"
   ]
  },
  {
   "cell_type": "code",
   "execution_count": 8,
   "id": "4c755285",
   "metadata": {},
   "outputs": [],
   "source": [
    "from langchain.document_loaders import WikipediaLoader\n",
    "\n",
    "query = \"Elon Musk\"\n",
    "llm_data = WikipediaLoader(query=query,load_max_docs=3,doc_content_chars_max=20_000).load()"
   ]
  },
  {
   "cell_type": "code",
   "execution_count": 9,
   "id": "8549e2cc",
   "metadata": {},
   "outputs": [
    {
     "name": "stdout",
     "output_type": "stream",
     "text": [
      "page_content='Elon Reeve Musk  ( EE-lon; born June 28, 1971) is a businessman, known for his leadership of Tesla, SpaceX, X (formerly Twitter), and the Department of Government Efficiency (DOGE). Musk has been the wealthiest person in the world since 2021; as of May 2025, Forbes estimates his net worth to be US$424.7 billion.\n",
      "Born to a wealthy family in Pretoria, South Africa, Musk emigrated in 1989 to Canada. He received bachelor's degrees from the University of Pennsylvania in 1997 before moving to California, United States, to pursue business ventures. In 1995, Musk co-founded the software company Zip2. Following its sale in 1999, he co-founded X.com, an online payment company that later merged to form PayPal, which was acquired by eBay in 2002. That year, Musk also became an American citizen.\n",
      "In 2002, Musk founded the space technology company SpaceX, becoming its CEO and chief engineer; the company has since led innovations in reusable rockets and commercial spaceflight. Musk joined the automaker Tesla as an early investor in 2004 and became its CEO and product architect in 2008; it has since become a leader in electric vehicles. In 2015, he co-founded OpenAI to advance artificial intelligence (AI) research but later left; growing discontent with the organization's direction and their leadership in the AI boom in the 2020s led him to establish xAI. In 2022, he acquired the social network Twitter, implementing significant changes and rebranding it as X in 2023. His other businesses include the neurotechnology company Neuralink, which he co-founded in 2016, and the tunneling company the Boring Company, which he founded in 2017.\n",
      "Musk was the largest donor in the 2024 U.S. presidential election, and is a supporter of global far-right figures, causes, and political parties. In early 2025, he served as senior advisor to United States president Donald Trump and as the de facto head of DOGE. After a public feud with Trump, Musk left the Trump administration and announced he was creating his own political party, the America Party.\n",
      "Musk's political activities, views, and statements have made him a polarizing figure, especially following the COVID-19 pandemic. He has been criticized for making unscientific and misleading statements, including COVID-19 misinformation and promoting conspiracy theories, and affirming antisemitic, racist, and transphobic comments. His acquisition of Twitter was controversial due to a subsequent increase in hate speech and the spread of misinformation on the service. His role in the second Trump administration attracted public backlash, particularly in response to DOGE.\n",
      "\n",
      "\n",
      "== Early life ==\n",
      "\n",
      "Elon Reeve Musk was born on June 28, 1971, in Pretoria, South Africa's administrative capital. He is of British and Pennsylvania Dutch ancestry. His mother, Maye (née Haldeman), is a model and dietitian born in Saskatchewan, Canada, and raised in South Africa. His father, Errol Musk, is a South African electromechanical engineer, pilot, sailor, consultant, emerald dealer, and property developer, who partly owned a rental lodge at Timbavati Private Nature Reserve. His maternal grandfather, Joshua N. Haldeman, who died in a plane crash when Elon was a toddler, was an American-born Canadian chiropractor, aviator and political activist in the Technocracy movement who moved to South Africa in 1950. Haldeman's anti-government, anti-democratic and conspiracist views, which included the promotion of far-right antisemitic conspiracy theories, \"fanatical\" support of apartheid, and according to Errol Musk, support of Nazism, have been suggested as an influence on Elon. During his childhood, Elon was told stories by his grandmother of Haldeman's travels and exploits, and Elon has suggested that all of Haldeman's descendants have his \"desire for adventure, exploration – doing crazy things\".\n",
      "Elon has a younger brother, Kimbal, a younger sister, Tosca, and four paternal half-siblings. Musk was raised in the Anglican Church, in which he was baptized. The Musk family was wealthy during Elon's youth. Despite both Elon and Errol previously stating that Errol was a part owner of a Zambian emerald mine, in 2023, Errol recounted that the deal he made was to receive \"a portion of the emeralds produced at three small mines\". Errol was elected to the Pretoria City Council as a representative of the anti-apartheid Progressive Party and has said that his children shared their father's dislike of apartheid.\n",
      "After his parents divorced in 1979, Elon, aged around 9, chose to live with his father because he had an Encyclopaedia Britannica and a computer. Elon later regretted his decision and became estranged from his father. Elon has recounted trips to a wilderness school that he described as a \"paramilitary Lord of the Flies\" where \"bullying was a virtue\" and children were encouraged to fight over rations. In one incident, after an altercation with a fellow pupil, Elon was thrown down concrete steps and beaten severely, leading to him being hospitalized for his injuries. Elon described his father berating him after he was discharged from the hospital. Errol denied berating Elon and claimed, \"The boy had just lost his father to suicide and Elon had called him stupid. Elon had a tendency to call people stupid. How could I possibly blame that child?\"\n",
      "Elon was an enthusiastic reader of books, and had attributed his success in part to having read The Lord of the Rings, the Foundation series, and The Hitchhiker's Guide to the Galaxy. At age ten, he developed an interest in computing and video games, teaching himself how to program from the VIC-20 user manual. At age twelve, Elon sold his BASIC-based game Blastar to PC and Office Technology magazine for approximately $500.\n",
      "\n",
      "\n",
      "=== Education ===\n",
      "\n",
      "Musk attended Waterkloof House Preparatory School, Bryanston High School, and then Pretoria Boys High School, where he graduated. Musk was a good but unexceptional student, earning a 61 in Afrikaans and a B on his senior math certification. Musk applied for a Canadian passport through his Canadian-born mother to avoid South Africa's mandatory military service, which would have forced him to participate in the apartheid regime, as well as to ease his path to immigration to the United States. While waiting for his application to be processed, he attended the University of Pretoria for five months.\n",
      "Musk arrived in Canada in June 1989, connected with a second cousin in Saskatchewan, and worked odd jobs including at a farm and a lumber mill. In 1990, he entered Queen's University in Kingston, Ontario. Two years later, he transferred to the University of Pennsylvania, where he studied until 1995. Although Musk has said that he earned his degrees in 1995, the University of Pennsylvania did not award them until 1997 – a Bachelor of Arts in physics and a Bachelor of Science in economics from the university's Wharton School. He reportedly hosted large, ticketed house parties to help pay for tuition, and wrote a business plan for an electronic book-scanning service similar to Google Books.\n",
      "In 1994, Musk held two internships in Silicon Valley: one at energy storage startup Pinnacle Research Institute, which investigated electrolytic supercapacitors for energy storage, and another at Palo Alto–based startup Rocket Science Games. In 1995, he was accepted to a graduate program in materials science at Stanford University, but did not enroll. Musk decided to join the Internet boom, applying for a job at Netscape, to which he reportedly never received a response. The Washington Post reported that Musk lacked legal authorization to remain and work in the United States after failing to enroll at Stanford. In response, Musk said he was allowed to work at that time and that his student visa transitioned to an H1-B. According to numerous former business associates and shareholders, Musk said he was on a student visa at the time.\n",
      "\n",
      "\n",
      "== Business career ==\n",
      "\n",
      "\n",
      "=== Zip2 ===\n",
      "\n",
      "In 1995, Musk, his brother Kimbal, and Greg Kouri founded web software company Zip2 with funds borrowed from Musk's father. They housed the venture at a small rented office in Palo Alto. The company developed and marketed an Internet city guide for the newspaper publishing industry, with maps, directions, and yellow pages.\n",
      "According to Musk, \"The website was up during the day and I was coding it at night, seven days a week, all the time.\" The Musk brothers obtained contracts with The New York Times and the Chicago Tribune, and persuaded the board of directors to abandon plans for a merger with CitySearch. Musk's attempts to become CEO were thwarted by the board. Compaq acquired Zip2 for $307 million in cash in February 1999, and Musk received $22 million for his 7-percent share.\n",
      "\n",
      "\n",
      "=== X.com and PayPal ===\n",
      "\n",
      "In 1999, Musk co-founded X.com, an online financial services and e-mail payment company. The startup was one of the first federally insured online banks, and, in its initial months of operation, over 200,000 customers joined the service. The company's investors regarded Musk as inexperienced and replaced him with Intuit CEO Bill Harris by the end of the year. The following year, X.com merged with online bank Confinity to avoid competition. Founded by Max Levchin and Peter Thiel, Confinity had its own money-transfer service, PayPal, which was more popular than X.com's service.\n",
      "Within the merged company, Musk returned as CEO. Musk's preference for Microsoft software over Unix created a rift in the company and caused Thiel to resign. Due to resulting technological issues and lack of a cohesive business model, the board ousted Musk and replaced him with Thiel in 2000. Under Thiel, the company focused on the PayPal service and was renamed PayPal in 2001. In 2002, PayPal was acquired by eBay for $1.5 billion in stock, of which Musk—the largest shareholder with 11.72% of shares—received $175.8 million. In 2017, Musk purchased the domain X.com from PayPal for an undisclosed amount, stating that it had sentimental value.\n",
      "\n",
      "\n",
      "=== SpaceX ===\n",
      "\n",
      "In 2001, Musk became involved with the nonprofit Mars Society and discussed funding plans to place a growth-chamber for plants on Mars. Seeking a way to launch the greenhouse payloads into space, Musk made two unsuccessful trips to Moscow to purchase intercontinental ballistic missiles (ICBMs) from Russian companies NPO Lavochkin and Kosmotras. Musk instead decided to start a company to build affordable rockets. With $100 million of his early fortune, Musk founded SpaceX in May 2002 and became the company's CEO and Chief Engineer.\n",
      "SpaceX attempted its first launch of the Falcon 1 rocket in 2006. Although the rocket failed to reach Earth orbit, it was awarded a Commercial Orbital Transportation Services program contract from NASA, then led by Mike Griffin. After two more failed attempts that nearly caused Musk to go bankrupt, SpaceX succeeded in launching the Falcon 1 into orbit in 2008. Later that year, SpaceX received a $1.6 billion NASA contract for Falcon 9-launched Dragon spacecraft flights to the International Space Station (ISS), replacing the Space Shuttle after its 2011 retirement. In 2012, the Dragon vehicle docked with the ISS, a first for a commercial spacecraft.\n",
      "Working towards its goal of reusable rockets, in 2015 SpaceX successfully landed the first stage of a Falcon 9 on a land platform. Later landings were achieved on autonomous spaceport drone ships, an ocean-based recovery platform. In 2018, SpaceX launched the Falcon Heavy; the inaugural mission carried Musk's personal Tesla Roadster as a dummy payload. Since 2019, SpaceX has been developing Starship, a reusable, super heavy-lift launch vehicle intended to replace the Falcon 9 and Falcon Heavy. In 2020, SpaceX launched its first crewed flight, the Demo-2, becoming the first private company to place astronauts into orbit and dock a crewed spacecraft with the ISS. In 2024, NASA awarded SpaceX an $843 million contract to deorbit the ISS at the end of its lifespan.\n",
      "\n",
      "\n",
      "==== Starlink ====\n",
      "\n",
      "In 2015, SpaceX began development of the Starlink constellation of low Earth orbit satellites to provide satellite Internet access. After the launch of prototype satellites in 2018, the first large constellation was deployed in May 2019. As of May 2025, over 7,600 Starlink satellites are operational, comprising 65% of all operational Earth satellites. The total cost of the decade-long project to design, build, and deploy the constellation was estimated by SpaceX in 2020 to be $10 billion.\n",
      "During the Russian invasion of Ukraine, Musk provided free Starlink service to Ukraine, permitting Internet access and communication at a yearly cost to SpaceX of $400 million. However, Musk refused to block Russian state media on Starlink. In 2023, Musk denied Ukraine's request to activate Starlink over Crimea to aid an attack against the Russian navy, citing fears of a nuclear response.\n",
      "\n",
      "\n",
      "=== Tesla ===\n",
      "\n",
      "Tesla, Inc., originally Tesla Motors, was incorporated in July 2003 by Martin Eberhard and Marc Tarpenning. Both men played active roles in the company's early development prior to Musk's involvement. Musk led the Series A round of investment in February 2004; he invested $6.35 million, became the majority shareholder, and joined Tesla's board of directors as chairman. Musk took an active role within the company and oversaw Roadster product design, but was not deeply involved in day-to-day business operations. Following a series of escalating conflicts in 2007, and the 2008 financial crisis, Eberhard was ousted from the firm. Musk assumed leadership of the company as CEO and product architect in 2008. A 2009 lawsuit settlement with Eberhard designated Musk as a Tesla co-founder, along with Tarpenning and two others.\n",
      "Tesla began delivery of the Roadster, an electric sports car, in 2008. With sales of about 2,500 vehicles, it was the first mass production all-electric car to use lithium-ion battery cells. Under Musk, Tesla has since launched several well-selling electric vehicles, including the four-door sedan Model S (2012), the crossover Model X (2015), the mass-market sedan Model 3 (2017), the crossover Model Y (2020), and the pickup truck Cybertruck (2023).\n",
      "In May 2020 Musk resigned as chairman of the board as part of the settlement of a lawsuit from the SEC over him tweeting that funding had been \"secured\" for potentially taking Tesla private.\n",
      "The company has also constructed multiple lithium-ion battery and electric vehicle factories, called Gigafactories. Since its initial public offering in 2010, Tesla stock has risen significantly; it became the most valuable carmaker in summer 2020, and it entered the S&P 500 later that year. In October 2021, it reached a market capitalization of $1 trillion, the sixth company in U.S. history to do so.\n",
      "\n",
      "\n",
      "==== SolarCity and Tesla Energy ====\n",
      "\n",
      "Musk provided the initial concept and financial capital for SolarCity, which his cousins Lyndon and Peter Rive founded in 2006. By 2013, SolarCity was the second largest provider of solar power systems in the United States. In 2014, Musk promoted the idea of SolarCity building an advanced production facility in Buffalo, New York, triple the size of the largest solar plant in the United States. Construction of the factory started in 2014 and was completed in 2017. It operated as a joint venture with Panasonic until early 2020.\n",
      "Tesla acquired SolarCity for $2 billion in 2016 and merged it with its battery unit to create Tesla Energy. The deal's announcement resulted in a more than 10% drop in Tesla's stock price; at the time, SolarCity was facing liquidity issues. Multiple shareholder groups filed a lawsuit against Musk and Tesla's directors, stating that the purchase of SolarCity was done solely to benefit Musk and came at the expense of Tesla and its shareholders. Tesla directors settled the lawsuit in January 2020, leaving Musk the sole remaining defendant. Two years later, the court ruled in Musk's favor.\n",
      "\n",
      "\n",
      "=== Neuralink ===\n",
      "\n",
      "In 2016, Musk co-founded Neuralink, a neurotechnology startup, with an investment of $100 million. Neuralink aims to integrate the human brain with artificial intelligence (AI) by creating devices that are embedded in the brain. Such technology could enhance memory or allow the devices to communicate with software. The company also hopes to develop devices to treat neurological conditions like spinal cord injuries. In 2022, Neuralink announced that clinical trials would begin by the end of the year. In September 2023, the Food and Drug Administration approved Neuralink to initiate six-year human trials.\n",
      "Neuralink has conducted animal testing on macaques at the University of California, Davis. In 2021, the company released a video in which a macaque played the video game Pong via a Neuralink implant. The company's animal trials—which have caused the deaths of some monkeys—have led to claims of animal cruelty. The Physicians Committee for Responsible Medicine has alleged that Neuralink violated the Animal Welfare Act. Employees have complained that pressure from Musk to accelerate development has led to botched experiments and unnecessary animal deaths. In 2022, a federal probe was launched into possible animal welfare violations by Neuralink.\n",
      "\n",
      "\n",
      "=== The Boring Company ===\n",
      "\n",
      "In 2017, Musk founded the Boring Company to construct tunnels; he also revealed plans for specialized, underground, high-occupancy vehicles that could travel up to 150 miles per hour (240 km/h) and thus circumvent above-ground traffic in major cities. Early in 2017, the company began discussions with regulatory bodies and initiated construction of a 30-foot (9.1 m) wide, 50-foot (15 m) long, and 15-foot (4.6 m) deep \"test trench\" on the premises of SpaceX's offices, as that required no permits. The Los Angeles tunnel, less than two miles (3.2 km) in length, debuted to journalists in 2018. It used Tesla Model Xs and was reported to be a rough ride while traveling at suboptimal speeds. Two tunnel projects announced in 2018, in Chicago and West Los Angeles, have been canceled. However, a tunnel beneath the Las Vegas Convention Center was completed in early 2021. Local officials have approved further expansions of the tunnel system.\n",
      "\n",
      "\n",
      "=== X Corp. ===\n",
      "\n",
      "In early 2017, Musk expressed interest in buying Twitter and had questioned the platform's commitment to freedom of speech. By 2022, Musk had reached 9.2% stake in the company, making him the largest shareholder. Musk later agreed to a deal that would appoint him to Twitter's board of directors and prohibit him from acquiring more than 14.9% of the company. Days later, Musk made a $43 billion offer to buy Twitter. By the end of April Musk had successfully concluded his bid for approximately $44 billion. This included approximately $12.5 billion in loans and $21 billion in equity financing. Having backtracked on his initial decision, Musk bought the company on October 27, 2022.\n",
      "Immediately after the acquisition, Musk fired several top Twitter executives including CEO Parag Agrawal; Musk became the CEO instead. Under Elon Musk, Twitter instituted monthly subscriptions for a \"blue check\", and laid off a significant portion of the company's staff. Musk lessened content moderation and hate speech also increased on the platform after his takeover. In late 2022, Musk released internal documents relating to Twitter's moderation of Hunter Biden's laptop controversy in the lead-up to the 2020 presidential election. Musk also promised to step down as CEO after a Twitter poll, and five months later, Musk stepped down as CEO and transitioned his role to executive chairman and chief technology officer (CTO).\n",
      "Despite Musk stepping down as CEO, X continues to struggle with challenges such as viral misinformation, hate speech, and antisemitism controversies. Musk has been accused of trying to silence some of his critics such as Twitch streamer Asmongold, who criticized him during one of his streams. Musk has been accused of removing their accounts' blue checkmarks, which ' metadata={'title': 'Elon Musk', 'summary': \"Elon Reeve Musk  ( EE-lon; born June 28, 1971) is a businessman, known for his leadership of Tesla, SpaceX, X (formerly Twitter), and the Department of Government Efficiency (DOGE). Musk has been the wealthiest person in the world since 2021; as of May 2025, Forbes estimates his net worth to be US$424.7 billion.\\nBorn to a wealthy family in Pretoria, South Africa, Musk emigrated in 1989 to Canada. He received bachelor's degrees from the University of Pennsylvania in 1997 before moving to California, United States, to pursue business ventures. In 1995, Musk co-founded the software company Zip2. Following its sale in 1999, he co-founded X.com, an online payment company that later merged to form PayPal, which was acquired by eBay in 2002. That year, Musk also became an American citizen.\\nIn 2002, Musk founded the space technology company SpaceX, becoming its CEO and chief engineer; the company has since led innovations in reusable rockets and commercial spaceflight. Musk joined the automaker Tesla as an early investor in 2004 and became its CEO and product architect in 2008; it has since become a leader in electric vehicles. In 2015, he co-founded OpenAI to advance artificial intelligence (AI) research but later left; growing discontent with the organization's direction and their leadership in the AI boom in the 2020s led him to establish xAI. In 2022, he acquired the social network Twitter, implementing significant changes and rebranding it as X in 2023. His other businesses include the neurotechnology company Neuralink, which he co-founded in 2016, and the tunneling company the Boring Company, which he founded in 2017.\\nMusk was the largest donor in the 2024 U.S. presidential election, and is a supporter of global far-right figures, causes, and political parties. In early 2025, he served as senior advisor to United States president Donald Trump and as the de facto head of DOGE. After a public feud with Trump, Musk left the Trump administration and announced he was creating his own political party, the America Party.\\nMusk's political activities, views, and statements have made him a polarizing figure, especially following the COVID-19 pandemic. He has been criticized for making unscientific and misleading statements, including COVID-19 misinformation and promoting conspiracy theories, and affirming antisemitic, racist, and transphobic comments. His acquisition of Twitter was controversial due to a subsequent increase in hate speech and the spread of misinformation on the service. His role in the second Trump administration attracted public backlash, particularly in response to DOGE.\\n\\n\", 'source': 'https://en.wikipedia.org/wiki/Elon_Musk'}\n"
     ]
    }
   ],
   "source": [
    "print(llm_data[0])"
   ]
  },
  {
   "cell_type": "markdown",
   "id": "7aefb881",
   "metadata": {},
   "source": [
    "### 4.PDF"
   ]
  },
  {
   "cell_type": "code",
   "execution_count": 10,
   "id": "13936e3e",
   "metadata": {},
   "outputs": [],
   "source": [
    "from langchain.document_loaders import PyPDFLoader\n",
    "pages = PyPDFLoader(\"CV.pdf\").load_and_split()"
   ]
  },
  {
   "cell_type": "code",
   "execution_count": 11,
   "id": "6930e84c",
   "metadata": {},
   "outputs": [
    {
     "name": "stdout",
     "output_type": "stream",
     "text": [
      "page_content='MOAAZ ANWAR SOLIMAN\n",
      "AI ENGINEER\n",
      "moaazanwarsoliman@gmail.com\n",
      " \n",
      "+201116823857 +201014397578\n",
      " \n",
      "Egypt, Menofia\n",
      " \n",
      "github.com/Animo-GD\n",
      " \n",
      "linkedin.com/in/moaaz solomon/\n",
      " \n",
      "OBJECTIVE\n",
      "I am motivated to engage in a new experience in the field of Al and Machine Learning, expand my horizons of \n",
      "knowledge, and gain experience from experts on the ground. I am looking for a training opportunity as a fresh \n",
      "graduated to gain experience from experts in this field and work on real-world projects.\n",
      "EDUCATION\n",
      "Faculty of Electronic Engineering – Menoufia University\n",
      "Major: Computer Science and Engineering\n",
      "2019 – 2025\n",
      "National Telecommunication Institute (NTI)\n",
      "Completed 120 hours of intensive training in artificial intelligence, covering \n",
      "machine learning, deep learning, computer vision, and natural language processing.\n",
      "09/2023 – 11/2023\n",
      "Information Technology Institute (ITI)\n",
      "Gained hands-on experience in Internet of Things concepts, including sensor \n",
      "integration, data collection, communication protocols, and real-time monitoring \n",
      "systems.\n",
      "08/2024 – 09/2024\n",
      "Courses\n",
      "Python, HackerRank\n",
      "Demonstrated proficiency in Python programming through problem-solving and \n",
      "algorithmic challenges.\n",
      "09/2023\n",
      "AI For Everyone, DeepLearning.AI\n",
      "Developed understanding of AI concepts, capabilities, and societal impacts for \n",
      "strategic and practical applications.\n",
      "10/2023\n",
      "Linear Algebra for Machine Learning and Data Science, DeepLearning.AI\n",
      "Learned essential linear algebra concepts for understanding and implementing ML \n",
      "and data science algorithms.\n",
      "11/2023\n",
      "TensorFlow Serving with Docker for Model Deployment, Coursera\n",
      "Gained experience deploying ML models using TensorFlow Serving in Docker for \n",
      "scalable and efficient inference.\n",
      "11/2023\n",
      "Introduction to TensorFlow for Artificial Intelligence, Machine Learning, and \n",
      "Deep Learning, DeepLearning.AI\n",
      "Acquired skills in building and training neural networks with TensorFlow for various \n",
      "AI applications.\n",
      "02/2024\n",
      "Supervised Machine Learning, DeepLearning.AI, Stanford CPD\n",
      "Learned regression, classification, and model evaluation techniques to build and \n",
      "optimize predictive models.\n",
      "03/2024' metadata={'producer': 'Skia/PDF m135', 'creator': 'FlowCV - https://flowcv.com', 'creationdate': '2025-08-13T19:28:32+00:00', 'moddate': '2025-08-13T19:28:32+00:00', 'keywords': 'FlowCV – Online Resume Builder – https://flowcv.com', 'source': 'CV.pdf', 'total_pages': 3, 'page': 0, 'page_label': '1'}\n"
     ]
    }
   ],
   "source": [
    "print(pages[0])"
   ]
  },
  {
   "cell_type": "code",
   "execution_count": 12,
   "id": "fee81c6d",
   "metadata": {},
   "outputs": [
    {
     "name": "stdout",
     "output_type": "stream",
     "text": [
      "page_content='MOAAZ ANWAR SOLIMAN\n",
      "AI ENGINEER\n",
      "moaazanwarsoliman@gmail.com\n",
      " \n",
      "+201116823857 +201014397578\n",
      " \n",
      "Egypt, Menofia\n",
      " \n",
      "github.com/Animo-GD\n",
      " \n",
      "linkedin.com/in/moaaz solomon/\n",
      " \n",
      "OBJECTIVE\n",
      "I am motivated to engage in a new experience in the field of Al and Machine Learning, expand my horizons of \n",
      "knowledge, and gain experience from experts on the ground. I am looking for a training opportunity as a fresh \n",
      "graduated to gain experience from experts in this field and work on real-world projects.\n",
      "EDUCATION\n",
      "Faculty of Electronic Engineering – Menoufia University\n",
      "Major: Computer Science and Engineering\n",
      "2019 – 2025\n",
      "National Telecommunication Institute (NTI)\n",
      "Completed 120 hours of intensive training in artificial intelligence, covering \n",
      "machine learning, deep learning, computer vision, and natural language processing.\n",
      "09/2023 – 11/2023\n",
      "Information Technology Institute (ITI)\n",
      "Gained hands-on experience in Internet of Things concepts, including sensor \n",
      "integration, data collection, communication protocols, and real-time monitoring \n",
      "systems.\n",
      "08/2024 – 09/2024\n",
      "Courses\n",
      "Python, HackerRank\n",
      "Demonstrated proficiency in Python programming through problem-solving and \n",
      "algorithmic challenges.\n",
      "09/2023\n",
      "AI For Everyone, DeepLearning.AI\n",
      "Developed understanding of AI concepts, capabilities, and societal impacts for \n",
      "strategic and practical applications.\n",
      "10/2023\n",
      "Linear Algebra for Machine Learning and Data Science, DeepLearning.AI\n",
      "Learned essential linear algebra concepts for understanding and implementing ML \n",
      "and data science algorithms.\n",
      "11/2023\n",
      "TensorFlow Serving with Docker for Model Deployment, Coursera\n",
      "Gained experience deploying ML models using TensorFlow Serving in Docker for \n",
      "scalable and efficient inference.\n",
      "11/2023\n",
      "Introduction to TensorFlow for Artificial Intelligence, Machine Learning, and \n",
      "Deep Learning, DeepLearning.AI\n",
      "Acquired skills in building and training neural networks with TensorFlow for various \n",
      "AI applications.\n",
      "02/2024\n",
      "Supervised Machine Learning, DeepLearning.AI, Stanford CPD\n",
      "Learned regression, classification, and model evaluation techniques to build and \n",
      "optimize predictive models.\n",
      "03/2024' metadata={'producer': 'Skia/PDF m135', 'creator': 'FlowCV - https://flowcv.com', 'creationdate': '2025-08-13T19:28:32+00:00', 'moddate': '2025-08-13T19:28:32+00:00', 'keywords': 'FlowCV – Online Resume Builder – https://flowcv.com', 'source': 'CV.pdf', 'total_pages': 3, 'page': 0, 'page_label': '1'}\n"
     ]
    }
   ],
   "source": [
    "print(pages[0])"
   ]
  },
  {
   "cell_type": "markdown",
   "id": "fe05893f",
   "metadata": {},
   "source": [
    "### 5. PDF Contains Images"
   ]
  },
  {
   "cell_type": "code",
   "execution_count": 13,
   "id": "1cee6e5e",
   "metadata": {},
   "outputs": [
    {
     "name": "stdout",
     "output_type": "stream",
     "text": [
      "@ Machine Learning Pipeline Cheat Sheet\n",
      "\n",
      "1. Data Collection\n",
      "© Ed what: Gather raw data from files, APIs, sensors, etc.\n",
      "\n",
      "© R Tools: pandas, requests, SQL, scrapy, Seautifulsoup\n",
      "\n",
      "F = pd. read_csv(‘data.csv')\n",
      "\n",
      "2. Data Preprocessing\n",
      "a.Cleaning\n",
      "\n",
      "‘© Handle missing values ( aw )\n",
      "+ Fixdata types\n",
      "\n",
      "# Remove duplicates\n",
      "\n",
      "# Normalize formats\n",
      "\n",
      "4€( peice’ |-astype(+ioat)\n",
      "\n",
      "Text Cleanup (NLP-specific)\n",
      "© Remove punctuation, stopwords, URLS\n",
      "# Lowercase conversion\n",
      "\n",
      "* Tokenization\n",
      "\n",
      "from sklearn feature extraction text inport ENGLISM_STOP_WORDS\n",
      "from nitk.tokenize inport word tokentize\n",
      "\n",
      "3. Exploratory Data Analysis (EDA)\n"
     ]
    }
   ],
   "source": [
    "import fitz  # PyMuPDF\n",
    "import pytesseract\n",
    "from PIL import Image\n",
    "import io\n",
    "from langchain.schema import Document\n",
    "pytesseract.pytesseract.tesseract_cmd = r\"C:\\Program Files\\Tesseract-OCR\\tesseract.exe\"\n",
    "class OCRPDFLoader:\n",
    "    def __init__(self, file_path):\n",
    "        self.file_path = file_path\n",
    "\n",
    "    def load(self):\n",
    "        doc = fitz.open(self.file_path)\n",
    "        documents = []\n",
    "        \n",
    "        for page_num in range(len(doc)):\n",
    "            # Render page as image\n",
    "            pix = doc[page_num].get_pixmap()\n",
    "            img = Image.open(io.BytesIO(pix.tobytes()))\n",
    "            \n",
    "            # OCR\n",
    "            text = pytesseract.image_to_string(img)\n",
    "            \n",
    "            # Wrap into LangChain Document\n",
    "            documents.append(\n",
    "                Document(\n",
    "                    page_content=text,\n",
    "                    metadata={\"source\": self.file_path, \"page\": page_num+1}\n",
    "                )\n",
    "            )\n",
    "        return documents\n",
    "\n",
    "\n",
    "# ---- USAGE ----\n",
    "loader = OCRPDFLoader(\"ImagePDF.pdf\")\n",
    "docs = loader.load()\n",
    "\n",
    "# Now you can send `docs` to any LangChain text splitter or vector store\n",
    "from langchain.text_splitter import RecursiveCharacterTextSplitter\n",
    "splitter = RecursiveCharacterTextSplitter(chunk_size=1000, chunk_overlap=100)\n",
    "chunks = splitter.split_documents(docs)\n",
    "\n",
    "print(chunks[0].page_content)  # preview\n"
   ]
  },
  {
   "cell_type": "markdown",
   "id": "8a992ec9",
   "metadata": {},
   "source": [
    "### 6. Directory"
   ]
  },
  {
   "cell_type": "code",
   "execution_count": 14,
   "id": "188de09c",
   "metadata": {},
   "outputs": [
    {
     "name": "stderr",
     "output_type": "stream",
     "text": [
      "  0%|          | 0/3 [00:00<?, ?it/s]libmagic is unavailable but assists in filetype detection. Please consider installing libmagic for better results.\n",
      "libmagic is unavailable but assists in filetype detection. Please consider installing libmagic for better results.\n",
      "libmagic is unavailable but assists in filetype detection. Please consider installing libmagic for better results.\n",
      "100%|██████████| 3/3 [00:00<00:00, 60.16it/s]\n"
     ]
    }
   ],
   "source": [
    "from langchain.document_loaders import DirectoryLoader\n",
    "llm_loader = DirectoryLoader(\"md-data\",glob=\"*.txt\",show_progress=True)\n",
    "\n",
    "llm_data = llm_loader.load()"
   ]
  },
  {
   "cell_type": "code",
   "execution_count": 15,
   "id": "831c2065",
   "metadata": {},
   "outputs": [
    {
     "name": "stdout",
     "output_type": "stream",
     "text": [
      "page_content='If you want, I can set this up so LangChain downloads → checks PDF type → uses OCR if needed, so it works even for screenshot PDFs.\n",
      "\n",
      "Do you want me to make that robust version?' metadata={'source': 'md-data\\\\1.txt'}\n"
     ]
    }
   ],
   "source": [
    "print(llm_data[0])"
   ]
  },
  {
   "cell_type": "code",
   "execution_count": 16,
   "id": "ccebfb41",
   "metadata": {},
   "outputs": [],
   "source": [
    "from langchain.document_loaders import PyPDFDirectoryLoader\n",
    "llm_loader = PyPDFDirectoryLoader(\"pdf-files\")\n",
    "llm_data = llm_loader.load()"
   ]
  },
  {
   "cell_type": "markdown",
   "id": "df231f4e",
   "metadata": {},
   "source": [
    "-----\n",
    "## Text Splitter"
   ]
  },
  {
   "cell_type": "code",
   "execution_count": 17,
   "id": "4e39f494",
   "metadata": {},
   "outputs": [],
   "source": [
    "from langchain.document_loaders import WikipediaLoader\n",
    "query_1 = \"Yahya Sinwar\"\n",
    "query_2 = \"mohamed el deif\"\n",
    "\n",
    "docs_1 = WikipediaLoader(query=query_1,load_max_docs=1,doc_content_chars_max=20_000).load()\n",
    "docs_2 = WikipediaLoader(query=query_2,load_max_docs=1,doc_content_chars_max=20_000).load()"
   ]
  },
  {
   "cell_type": "code",
   "execution_count": 18,
   "id": "7a0b2997",
   "metadata": {},
   "outputs": [],
   "source": [
    "text_document1 = docs_1[0].page_content\n",
    "text_document2 = docs_2[0].page_content"
   ]
  },
  {
   "cell_type": "code",
   "execution_count": 19,
   "id": "2177f320",
   "metadata": {},
   "outputs": [
    {
     "name": "stdout",
     "output_type": "stream",
     "text": [
      "Yahya Ibrahim Hassan Sinwar (Arabic: يحيى إبراهيم حسن السنوار, romanized: Yaḥyá Ibrāhīm Ḥasan al-Sinwār; 29 October 1962 – 16 October 2024) was a Palestinian militant and politician who served as fourth chairman of the Hamas Political Bureau from August 2024, and as the second leader of Hamas in the Gaza Strip from February 2017, succeeding Ismail Haniyeh in both roles. He was killed in a clash with the Israel Defense Forces (IDF) in October 2024.\n",
      "Sinwar was born in the Khan Yunis refugee camp in Egyptian-occupied Gaza in 1962 to a family who had been expelled or fled from Majdal 'Asqalan during the 1948 Palestine War. He finished his studies at the Islamic University of Gaza, where he received a bachelor's degree in Arabic studies. In 1989, Sinwar was sentenced to four life sentences in Israel for orchestrating the abduction and killing of two Israeli soldiers and four Palestinians he considered to be collaborators. He spent 22 years in prison until his release among 1,026 others in a 2011 prisoner exchange for Israeli soldier Gilad Shalit. During his time in prison, Sinwar continued to coordinate the military activities of Hamas. Sinwar was one of the co-founders of the security apparatus of Hamas.\n",
      "In 2017, Sinwar was elected as the leader of Hamas in Gaza and claimed to pursue \"peaceful, popular resistance\" the following year, supporting the 2018–2019 Gaza border protests, though he was also reported to have been dedicated to eradicating Israel and was said to have seen military confrontation as the only path to \"liberating Palestine\", saying that this would be achieved \"by force, not negotiations\". He also developed strong ties with Iran. Re-elected as Hamas leader in 2021, Sinwar survived an assassination attempt by Israel that same year. He was widely regarded as the mastermind behind the October 7 attacks in 2023, which was followed by the Gaza war that spilled over to other parts of the Middle East.\n",
      "Hamas and the Izz ad-Din al-Qassam Brigades have been designated terrorist organisations by the United States, the European Union, and other countries, and in September 2015, Sinwar was specifically designated a terrorist by the United States government. In May 2024, Karim Khan, the prosecutor of the International Criminal Court, announced his intention to apply for an arrest warrant for Sinwar for war crimes and crimes against humanity, as part of the ICC investigation in Palestine.\n",
      "\n",
      "\n",
      "== Early life and education ==\n",
      "Yahya Ibrahim Hassan al-Sinwar was born on 29 October 1962, in the Khan Yunis refugee camp, when the Gaza Strip was under Egyptian occupation, where he spent his early years. His family were forcibly expelled from Majdal Asqalan (Arabic: مدينة المجدل, romanized: Medīnat al-Majdal), now known as Ashkelon, during the Nakba, and sought refuge in the Gaza Strip. Sinwar, discussing his refugee upbringing, tied it to his Hamas involvement in conversations with fellow prisoners during his later imprisonment. According to Esmat Mansour, another inmate, Sinwar was deeply affected by the communal living conditions and food distribution in the refugee camp. After he graduated from high school at Khan Yunis Secondary School for Boys, he went on to the Islamic University of Gaza, where he received a bachelor's degree in Arabic studies. His younger brother is Mohammed Sinwar, a military leader of Hamas. Sinwar was a hafiz (a title given to those who have completely memorized the Quran).\n",
      "\n",
      "\n",
      "== Early activities and imprisonment ==\n",
      "Sinwar was first arrested in 1982 for subversive activities and he served several months in the Far'a prison where he met other Palestinian activists, including Salah Shehade, and dedicated himself to the Palestinian cause. Arrested again in 1985, upon his release he co-founded with Rawhi Mushtaha the Munazzamat al Jihad w'al-Dawa (Majd), an organization that worked, among others, to identify collaborators with Israel among the Palestinian population, which in 1987 became the Hamas \"police\". Sinwar's killing of suspected collaborators with Israel gained him the nickname \"The Butcher of Khan Younis\".\n",
      "When asked about this nickname in The New Yorker's August 2024 profile on Sinwar, Basem Naim, a member of Hamas's leadership, said: \"I think this is nonsense. That is the first time I have ever heard this.\" He and other Hamas leaders and supporters added that \"Israelis require a great villain\" and made one out of Sinwar for this reason. Academic expert on Hamas Khaled Hroub said Sinwar is \"widely respected as a great organizer\", and that claims of his alleged ruthlessness had not been proved. \"Before October 7th, I hadn't heard all these terrible stories\", Hroub said, adding: \"I think some of these stories came about to complete this image of Sinwar the villain. He is decisive, that is true, and maybe people started to extrapolate from that and spice it up.\"\n",
      "In 1988, Sinwar planned the abduction and killing of two Israeli soldiers and the murder of four Palestinians whom he suspected of cooperating with Israel. He was arrested on February that year; during questioning he admitted to strangling one of the victims with his bare hands, suffocating another with a keffiyeh, shooting a third and choking and punching a fourth. He was sentenced to four life sentences in 1989. Sinwar regarded extracting confessions from collaborators as a righteous obligation. He told interrogators that one of them had even said \"he realized he deserved to die.\" Sinwar persisted in targeting informants while in prison. Israeli authorities suspected him of ordering the beheadings of two suspected informants. Hamas operatives reportedly disposed of the victims' severed body parts by throwing them out of cell doors and telling guards to \"take the dog's head.\"\n",
      "Gershon Baskin, an Israeli peace activist who has long been involved in prisoner-exchange negotiations and talks with Hamas leaders, cautioned that “All these Israeli experts and Shin Bet people and interrogators will tell you that they know exactly what Sinwar knows and believes. But they can't know. The dynamic of a meeting with someone who is your prisoner is obviously fraught.\"\n",
      "Sinwar, respected for his resourcefulness among fellow inmates, attempted multiple escapes, including digging a hole in his cell floor to tunnel under the prison. He collaborated with Hamas leaders outside, smuggling cellphones into the prison and using visitors to relay messages. These often involved planning to kidnap Israeli soldiers for prisoner exchange. Years later, Sinwar would say, \"for the prisoner, capturing an Israeli soldier is the best news in the universe, because he knows that a glimmer of hope has been opened for him.\"\n",
      "Sinwar's time in prison was transformative, shaping his leadership qualities, according to Ghazi Hamad, a senior Hamas official. Sinwar also mastered Hebrew through an online program and extensively studied Israeli news to comprehend his adversary better. He meticulously translated Hebrew autobiographies of former Shin Bet chiefs into Arabic, sharing them with fellow inmates to study counterterrorism tactics. He referred to himself as a \"specialist in the Jewish people's history\". Sinwar once remarked to supporters: \"They wanted prison to be a grave for us, a mill to grind our will, determination and bodies. But, thank God, with our belief in our cause we turned the prison into sanctuaries of worship and academies for study.\" Ma'ariv reported that during his time in prison, Sinwar enrolled in fifteen courses through the Open University of Israel over a span of seven years, beginning in 1995. Most were in history, covering topics such as the history of the Jews in the Second Temple and Rabbinic periods, the First Temple period, The Holocaust, and Zionism, along with a political science course on governance and Israeli democracy.\n",
      "Hamas elects its leaders democratically within prison. Committees handle day-to-day decisions and punishments, while an elected \"emir\" and a high council oversee operations for limited terms. Sinwar alternated as emir with Rawhi Mushtaha, a confidant, during his imprisonment, serving as emir in 2004. Despite his leadership among prisoners, Sinwar was seen as a humble ascetic who shared cooking duties and other chores with junior inmates as well as making knafeh for fellow prisoners, in order to foster camaraderie.\n",
      "In 2004, Sinwar, displaying symptoms like standing for prayer then falling and drifting in and out of consciousness, complained of neck pain. A prison dentist, Yuval Bitton, suspected a brain issue, possibly a stroke or abscess, urging urgent hospitalization. At Soroka Medical Center, Israeli surgeons removed a brain tumor that would have been fatal. Bitton emphasized that without surgery, the tumor would have burst. He recounts that a few days later, he visited Sinwar in the hospital with a prison officer. Sinwar asked the Muslim officer guarding him to thank the dentist and to explain to him the significance of his life-saving surgery in Islam and how he felt indebted to him for saving his life. Sinwar rarely interacted with Israeli prison authorities, but he began regular meetings with the dentist. Their discussions, unlike the dentist's usual chats with inmates, solely concerned Hamas ideology. Sinwar, who knew the Qu'ran by heart, articulated Hamas' beliefs, emphasizing its religious stance on the land. He dismissed the possibility of a two-state solution, asserting the land belonged to Muslims.\n",
      "In a search of Sinwar's cell, guards confiscated a handwritten novel he completed at the end of 2004. The book, titled The Thorn and the Carnation, mirrored his life and the Palestinian resistance. The story revolves around Ahmed, a devout Gazan boy, navigating life under Israeli occupation during the 1967 Arab-Israeli war. At least one copy was smuggled out, and a typed PDF was found in an online library by The New York Times.  A different translation of the book title Al-Shawk wa’l Qurunful by a source well-versed in Arabic is Thorns and Carnations.\n",
      "Sinwar's sole interview with an Israeli television outlet in 2005 saw him warning Israelis to \"be scared\" of Hamas's election victory. However, he privately conveyed that much depended on the Israeli government's actions. He said that, essentially, Hamas did not have maximalist aims and instead was seeking rights from the Israeli leadership.\n",
      "Sinwar played a pivotal role in the negotiations for Gilad Shalit's release. Despite being part of the negotiation team, Sinwar opposed deals that did not include high-profile prisoners, known as \"the impossibles\", such as those serving multiple life sentences. Even after negotiations secured the release of over a thousand prisoners, including some high-profile ones, Sinwar remained adamant. This stance led to a rift in Hamas leadership, with Saleh al-Arouri, another prominent Hamas figure, recognizing the need for compromise. Despite efforts to persuade Sinwar, he persisted, even attempting to orchestrate a hunger strike involving 1,600 Hamas prisoners. His unwavering principles and refusal to compromise complicated negotiations. Eventually, Sinwar's authority waned as other Hamas leaders negotiated a deal without him, as Israeli authorities had put him in solitary confinement until the deal was reached. He was the most senior Palestinian prisoner released to Gaza among 1,026 others in the 2011 prisoner exchange for the soldier. In an interview with Hamas's Al-Aqsa TV, he expressed determination to continue efforts to free more prisoners, urging the Al-Qassam Brigades to kidnap soldiers for exchanges.\n",
      "Following his release from prison, Sinwar was elected to a role within Hamas akin to defense minister.\n",
      "In November 2012, during the 2012 Israeli operation in the Gaza Strip, Sinwar met Iranian Revolutionary Guard Corps Quds Force General Qasem Soleimani in Tehran and after his 2017 election as the group's leader in Gaza he cultivated closer cooperation between Hamas, Hezbollah and Iran.\n",
      "\n",
      "\n",
      "=== Torture of Mahmoud Ishtiwi ===\n",
      "\n",
      "Sinwar was the political representative of the Qassam Brigades when the Brigades' Zeitoun Battalion commander Mahmoud Ishtiwi was accused of embezzlement and other \"moral violations\". Hamas believed that fear of having these violations revealed led to him giving Israel information that ultimately contributed to the deaths of Mohammed Deif's wife Widad Asfura and their two children when their home was bombed by Israel in August 2014. Ishtiwi was reportedly whipped, suspended from a ceiling for hours across multiple days, and ultimately killed by being shot with three bullets to the chest.\n",
      "\n",
      "\n",
      "== Leadership of Hamas in the Gaza Strip (2017–2024) ==\n",
      "\n",
      "In February 2017, Sinwar was secretly elected the leader of Hamas in the Gaza Strip, taking over from Ismail Haniyeh. In March, he established a Hamas-controlled administrative committee for the Gaza Strip, opposing power sharing with the Palestinian Authority in Ramallah. Sinwar elevated his former prison associates alongside him, with Rawhi Mushtaha serving as the head of Hamas's Gaza government, and Tawfiq Abu Naim helped him to establish an internal security force feared by locals. Sinwar rejected any reconciliation with Israel, and was said to have been dedicated to its eradication, seeing military confrontation as the only path to \"liberating Palestine\", and saying that this would be achieved \"by force, not negotiations\". Sinwar strengthened Hamas's military wing, and called on militants to capture more Israeli soldiers.\n",
      "In September 2017, a new round of negotiations with the Palestinian Authority began in Egypt, and Sinwar agreed to dissolve the Hamas administrative committee for Gaza. He was said to have silenced hard-line voices in Gaza, ordering against the use of tunnels that Mohammed Deif wanted to use to sneak fighters into Israel before they were shut down by new classified Israeli technology in 2017.\n",
      "On 16 May 2018, in an unexpected announcement on Al Jazeera, Sinwar stated that Hamas would pursue \"peaceful, popular resistance\" to the Israeli occupation, opening the possibility that Hamas, which is considered a terrorist organisation by many countries, may play a role in negotiations with Israel. A week earlier he had encouraged Gazans to breach the Israeli siege and endorsed the Great March of Return, saying \"We would rather die as martyrs than die out of oppression and humiliation,\" and adding, \"We are ready to die, and tens of thousands will die with us.\"\n",
      "On 1 December 2020, Sinwar tested positive for COVID-19 and was reportedly following the advice of health authorities and taking precautionary measures. A spokesman for the group also said that he was in \"good health and [...] pursuing his duties as usual\".\n",
      "In March 2021, Sinwar was elected to a second four-year term as the head of Hamas in Gaza. By that time, Sinwar had solidified his control over the territory, and eliminated veteran Hamas commanders. He started bypassing Hamas's influential Shura council and kept the Doha-based senior leadership partially uninformed about his activities.\n",
      "On 15 May 2021, an Israeli airstrike was reported to have hit Sinwar's home; there were no immediate details of any deaths or injuries. The strike took place in the Khan Yunis region of southern Gaza in the midst of increasing tension between Israelis and Palestinians. In the week that followed, he appeared publicly at least four times. The most obvious was in a press conference on 27 May 2021. During the conference, Sinwar stated he would walk home from the venue and invited Benny Gantz, the Israeli Minister of Defense to order his assassination during his walk home. Sinwar spent the next hour in the streets of Gaza taking photos with the public.\n",
      "In the autumn of 2022, Hamas began planning a surprise attack on Israel. Sinwar sought to convince Iran and Hezbollah to participate in the attack or in a broader conflict with Israel, aiming to cause its 'collapse'. During one meeting, Sinwar acknowledged that such an attack would likely require sacrifices, probably referring to the people of Gaza. In September 2022, he reviewed the battle plans, though the attack was postponed. By May 2023, Sinwar and his colleagues were relieved to have avoided a minor confrontation during Ramadan, intending to preserve the element of surprise for the 7 October attack.\n",
      "\n",
      "\n",
      "=== Israel–Gaza war ===\n",
      "\n",
      "Sinwar and Mohammed Deif were regarded as the masterminds behind the October 7 attacks in 2023, the deadliest attack in Israeli history. The attack left around 1,200 people dead and about 240 taken as hostages in Gaza. Following the attack, Sinwar was put under EU terrorist sanctions and became a top target for assassination by the Israeli military.\n",
      "Israeli intelligence presumed Sinwar was hiding in a complex system of tunnels beneath Gaza and was surrounded by hostages acting as human shields. According to Israeli officials, Sinwar constructed an underground fortress in his hometown of Khan Yunis, from where he continued to coordinate attacks. IDF spokesperson noted that Israeli forces had come close to capturing him on multiple occasions during the war, but he consistently managed to evade them, primarily hiding underground between Khan Yunis and Rafah.\n",
      "After three weeks of conflict in the Gaza war, Sinwar proposed the release of all Palestinian prisoners in Israeli confinement in exchange for the release of all the hostages kidnapped in the conflict. Sinwar reportedly visited the hostages in the early days of the war promising they would not be harmed. When one of the hostages, Yocheved Lifshitz, said Sinwar should be ashamed of himself, he was silent.\n",
      "During subsequent cease-fire talks, Sinwar urged other Hamas leaders to refuse concessions. He said that high civilian casualties and the suffering of civilians in Gaza led to international pressure on Israel giving Hamas the upper hand in negotiations.\n",
      "On 7 November, after Israel had surrounded Gaza City, it claimed it had \"trapped\" Sinwar in a bunker there. Israeli military authorities later claimed he was in Khan Yunis in an underground bunker. Israeli Defence Minister Yoav Gallant said: \"We will get to Yahya Sinwar and eliminate him. If the residents of Gaza get there ahead of us, that will shorten the war.\"  Leaflets allegedly dropped by Israel into Gaza proclaimed a bounty of $400,000 for providing information on Sinwar's location. According to Reuters, Israel demanded the exile of Sinwar, Deif, and four other Hamas leaders from Gaza as a condition for a ceasefire.\n",
      "By February 2024 the IDF believed that Sinwar had moved to Rafah from Khan Younis. According to the IDF, Sinwar was constantly on the move and thus was unable to personally command Hamas forces. On 13 February the IDF released CCTV footage dated 10 October showing Sinwar and his wife and children as well as his brother Ibrahim in a Hamas tunnel complex in Khan Younis. The IDF stated that they were collecting intelligence and interrogating Hamas commanders and their relatives to find Sinwar.\n",
      "On 20 May 2024, Karim Khan, the prosecutor of the International Criminal Court, announced his intention to apply for an arrest warrant for Sinwar for war crimes and crimes against humanity, as part of the ICC investigation in Palestine.\n",
      "In June 2024, The Wall Street Journal published what it said were leaked communications between Sinwar and Hamas' leadership, in which Sinwar claimed to \"have the Israelis right where we want them\" and suggested that Palestinian civilian deaths were \"necessary sacrifices\" that would \"infuse life into the veins of this nation, prompting it to rise to its glory and honour\". Ghazi Hamad, a Hamas spokesperson, denied the report, stating that Sinwar never made such comments and was instead focused on ending the conflict swiftly, calling the circulated statements \"completely incorrect\". \n",
      "On 3 September 2024, the U.S. Department of Justice announced criminal charges against Sinwar for his role in the 7 October attack on Israel. The\n"
     ]
    }
   ],
   "source": [
    "print(text_document1)"
   ]
  },
  {
   "cell_type": "code",
   "execution_count": 20,
   "id": "4df41f77",
   "metadata": {},
   "outputs": [
    {
     "name": "stdout",
     "output_type": "stream",
     "text": [
      "Mohammed Diab Ibrahim al-Masri (Arabic: محمد دياب إبراهيم المصري, romanized: Muḥammad Diyāb Ibrāhīm al-Maṣrī;‎ 12 August 1965 – 13 July 2024), better known as Mohammed Deif (Arabic: محمد الضيف), was a Palestinian militant who served as the sixth commander of the Izz al-Din al-Qassam Brigades. He succeeded Salah Shehade following the latter's assassination in an Israeli airstrike in July 2002, until his assassination in July 2024. He was succeeded by Mohammed Sinwar, the younger brother of Yahya Sinwar. He was a central figure in the Gaza war and one of the masterminds of the October 7 attacks, alongside Yahya Sinwar.\n",
      "Deif was born in 1965 in the Khan Yunis Refugee Camp in the Gaza Strip, to a family that had fled or been expelled during the 1948 Palestine war. He reportedly left school temporarily to support his low-income family, later graduating with a bachelor's degree in chemistry from the Islamic University of Gaza in 1988, where he had established a theater group.\n",
      "Deif joined Hamas in 1987, weeks after it was established during the First Intifada against the Israeli occupation. He later became known as Mohammed Deif, meaning \"guest\" in Arabic—possibly in reference to the nomadic lifestyle he adopted to avoid being targeted. During the 1990s and early 2000s, he planned several suicide bombing attacks, including the 1996 Jaffa Road bus bombings. He became the head of the al-Qassam Brigades in 2002 and developed the group's capabilities, transforming it from a cluster of amateur cells to organized military units. He masterminded the group's strategy of combining rocket attacks on Israel with tunnel warfare, and was central to planning the October 7 attacks that initiated the Gaza war.\n",
      "Deif had been on the Israeli military's most wanted list since 1995 for killing Israeli soldiers and civilians. He was detained by the Palestinian Authority at Israel's request in 2000 before escaping months later. He had been targeted in multiple Israeli assassination attempts since 2001, surviving at least seven attempts on his life. His wife, infant son, and 3-year-old daughter were killed in an Israeli airstrike in 2014. The United States and the European Union added Deif to their terrorism lists in 2015 and 2023 respectively. \n",
      "Israel killed Deif in an airstrike on al-Mawasi on 13 July 2024. For over five months, Hamas denied reports of his death, eventually confirming it on 30 January 2025. In November 2024, the International Criminal Court (ICC) issued an arrest warrant for Deif, claiming it was unable to verify his death. The warrant was cancelled in late February 2025.\n",
      "\n",
      "\n",
      "== Early life ==\n",
      "Mohammed Diab Ibrahim al-Masri was born on 12 August 1965 in the Khan Younis refugee camp in the southern Gaza Strip. His family originates from al-Qubeiba, a former town near Ramleh in Mandatory Palestine, but fled or were expelled during the 1948 Palestine war. According to the Shin Bet, either his father or his uncle had participated in sporadic raids into Israel conducted by Palestinian fedayeen in the 1950s.\n",
      "Although not much is known about the details of his early life and upbringing, he reportedly had to temporarily drop out of school to support his low-income family, working with his father in upholstery and later starting a small poultry farm. It is understood that he studied chemistry at the Islamic University of Gaza, from which he graduated with a bachelor's degree in 1988.\n",
      "During his years at the university, he had a passion for theatre, establishing a theatre group called \"The Returners\", in reference to Palestinian refugees longing to return to the lands they lived on before the Nakba. He played a number of roles, including those of historical figures.\n",
      "\n",
      "\n",
      "== Early militant career ==\n",
      "Deif joined Hamas in 1987, weeks after its establishment during the First Intifada against the Israeli occupation. He was arrested by Israeli authorities in 1989 for his involvement with the organization. After 16 months of detention, he was released in a prisoner exchange. Soon after his release, he helped establish the Ezzedeen al-Qassam Brigades, the armed wing of Hamas.\n",
      "Deif was close to Emad Akel and Yahya Ayyash, who were assassinated by Israel in 1993 and 1996 respectively. He trained with, and learnt bombmaking from, Ayyash. After Ayyash's assassination, Deif reduced his profile to avoid being targeted. During the 1990s and early 2000s, he was behind a number of suicide bombing attacks, including the 1996 Jaffa Road bus bombings. He also oversaw the kidnappings and later killings of Israeli soldiers Shahar Simani, Aryeh Frankenthal, and Nachshon Wachsman in the 1990s.\n",
      "In May 2000, Deif was arrested at Israel's request by the Palestinian National Authority, but he escaped in December with assistance from some of his guards.\n",
      "According to Israeli journalist Ronen Bergman, Deif's campaign of massive retaliation and the failure of Israeli intelligence services to prevent it, was one of the factors that led to the defeat of Prime Minister Shimon Peres and the Israeli Labor Party in the 1996 Israeli general election and the victory of the right-wing Likud party of Benjamin Netanyahu, who opposed the Oslo peace process:\n",
      "\n",
      "At the beginning of February, Peres was up twenty points in the polls over his opposition, the conservative hawk Benjamin \"Bibi\" Netanyahu. By the middle of March, Netanyahu had closed the gap significantly, and Peres led by only five percentage points. On May 29, Netanyahu won by 1 percent of the vote. This was all due to the terror attacks, which Peres simply couldn't stop. Yahya Ayyash's disciples had ensured the right wing's victory and \"derailed the peace process,\" in the words of the deputy head of the Shin Bet, Yisrael Hasson.After Netanyahu got elected, attacks stopped, with some asserting that this was because Yasser Arafat clamped down on Hamas members, but Bergman insisting that the halt was because the short-term goal of the attacks was to stop the Oslo peace process, and Netanyahu was now working towards the same goal.\n",
      "\n",
      "\n",
      "== Head of the al-Qassam Brigades ==\n",
      "Deif became the head of the al-Qassam Brigades after Israel assassinated Salah Shehade in July 2002. Between July 2006 and November 2012, effective command was exercised by Deif's deputy, Ahmed Jabari, after Deif was seriously wounded in an Israeli assassination attempt.\n",
      "As the overall commander of the al-Qassam Brigades, he is thought to be the main organizer of the raid into Israel that killed two IDF soldiers and captured Gilad Shalit in June 2006, as well as the five-year operations to deceive Mossad and Shin Bet about Shalit's location in Gaza. He was also in charge of the al-Qassam Brigades' procurement of weapons from abroad, overseeing the transfer and manufacturing of Iranian Fajr-5 rocket components into Gaza, and maintained correspondence with Iranian Quds Force commander Esmail Qaani and his predecessor Qasem Soleimani. In a letter, Soleimani had called Deif a \"dear brother\" and a \"living martyr\".\n",
      "In September 2015, the US Department of State added Deif and three other Hamas leaders to the American list of Specially Designated Global Terrorists. In December 2023, the European Union added him to their terror blacklist in 2023.\n",
      "\n",
      "\n",
      "=== Shadow Unit ===\n",
      "Deif also created the \"Shadow Unit\" within the al-Qassam Brigades. Among the unit's duties are \"to guard enemy captives held by the al-Qassam Brigades, to hide them and to thwart enemy attempts to find them.\" An al-Qassam video said that the unit \"treats enemy captives honorably, in line with the rules of Islam, and provides for their needs, taking into account the treatment given to the prisoners of the resistance in the hands of the enemy.\"\n",
      "\n",
      "\n",
      "=== Strategy ===\n",
      "\n",
      "Deif has been credited with transforming the al-Qassam Brigades from a cluster of amateur cells to organized military units, described as an 'army,' that are capable of invading Israel. His military strategy has been dubbed the 'above and below' strategy, built on attacking Israeli territory with rockets and constructing underground tunnels to be used in infiltrating the border with Israel.\n",
      "\n",
      "\n",
      "=== Gaza war ===\n",
      "\n",
      "As the highest-ranking leader of the al-Qassam Brigades, Deif was involved in orchestrating the surprise attack on Israel that commenced the Gaza war, which, according to a source close to Hamas, he began planning in the lead up to the 2021 Israel–Palestine crisis, motivated by scenes of Israeli forces storming al-Aqsa Mosque during Ramadan. According to France 24, he was the mastermind behind the attack on 7 October. The decision to launch the attack was taken jointly by Deif and Yahya Sinwar, the leader of Hamas in the Gaza Strip.\n",
      "After the attack, a Reuters report stated that over the previous two years, Deif deceived Israel into believing Hamas was not interested in another round of conflict. This deception campaign involved a decision not to participate in the clashes between Israel and the Palestinian Islamic Jihad in August 2022 and May 2023, putting Israel under the impression that Hamas \"was not ready for a fight\" and could be contained by providing economic incentives to Gazan workers.\n",
      "On the day of the attack, Deif gave an audio address, his first since 2021, justifying it as a response to the \"desecration\" of the al-Aqsa Mosque and the killing and wounding of hundreds of Palestinians in 2023. He called on Palestinians and Arab Israelis to \"expel the occupiers and demolish the walls\". Announcing the start of \"Operation Al-Aqsa Storm,\" Deif said that \"In light of the continuing crimes against our people, in light of the orgy of occupation and its denial of international laws and resolutions, and in light of American and western support, we've decided to put an end to all this so that the enemy understands that he can no longer revel without being held to account.\"\n",
      "On 20 May 2024, a request for an arrest warrant against Deif and four other Palestinian and Israeli leaders was filed by the Prosecutor of the International Criminal Court (ICC) on several counts of war crimes and crimes against humanity, as part of its investigation in Palestine. The effort continued into September 2024, with the prosecutor saying that he was gathering information about Deif's \"reported death.\" On 21 November, the court officially indicted Deif for war crimes, stating that he bore responsibility for mass killings, hostage taking and rape during the 7 October attacks. The ICC argued that it was \"not in a position to determine whether [Deif] has been killed or remains alive\" following reports that Deif was killed in an Israeli airstrike on 13 July 2024.\n",
      "On 3 September 2024, the United States Department of Justice announced criminal charges against Deif and other Hamas officials for their roles in the October 7 attacks on Israel. The charges, which were filed under seal in February 2024, include conspiracy to provide material support to a foreign terrorist organization, conspiracy to murder U.S. nationals, and conspiracy to finance terrorism.\n",
      "\n",
      "\n",
      "== Unsuccessful assassination attempts ==\n",
      "The Israeli military and security forces have killed numerous members of Deif's family in failed attempts to kill Deif, who was on top of Israel's 'most wanted list' since 1995, and other airstrikes. Deif's survival earned him the nickname 'the cat with nine lives' among his Israeli adversaries. He survived at least seven Israeli assassination attempts.\n",
      "As of December 2023, Israeli military and security forces have killed Deif's brother, his nephew, his niece, his wife, his 3-year-old daughter, and his 7-month-old son.\n",
      "\n",
      "\n",
      "=== Early attempts (2001 to 2006) ===\n",
      "The first attempt on his life was by an airstrike in 2001, before he assumed the leadership of the al-Qassam Brigades. Israel tried again to kill Deif in September 2002 by a strike on his car. Video footage from that attempt show Deif covered in blood as a man drags him away.\n",
      "In 2003 and in July 2006, Israel tried again by striking a house that hosted a meeting of the Hamas leadership. It is also said that the July 2006 attempt was an airstrike on the house of one of Deif's lecturers in university when Deif was visiting him.\n",
      "\n",
      "\n",
      "=== Impact on health ===\n",
      "After the 2006 assassination attempt, Deif spent three months in Egypt for treatment of his skull after shrapnel lodged in it, and he continued to take daily tranquillizers to treat headaches.\n",
      "It was believed that the seven assassination attempts had lost Deif an eye and limbs. Hamas did not confirm or deny these claims and did not comment on his health. Footage obtained by the Israeli military in December 2023 showed Deif using both hands and walking on his own two feet, though with a slight limp and occasionally with the aid of a wheelchair.\n",
      "\n",
      "\n",
      "=== 2014 Gaza war ===\n",
      "\n",
      "In August 2014, during the 2014 Gaza War, the Israeli air force attempted to assassinate him with an airstrike on the Deif family home in Sheikh Radwan in Gaza City. Hamas denied that Deif was killed, and his survival was confirmed by Israeli intelligence in 2015.\n",
      "\n",
      "\n",
      "=== Two failed attempts in one week (2021) ===\n",
      "In May 2021, during the 2021 Israel–Palestine crisis, the Israel military tried to kill Deif twice in one week, but both attempts proved unsuccessful.\n",
      "\n",
      "\n",
      "=== October 2023 attack on father's house ===\n",
      "In October 2023, during the Gaza war, Deif's father's house was hit by an Israeli airstrike, killing Deif's brother, nephew, and niece. It was unclear whether or not the airstrike targeted Deif.\n",
      "\n",
      "\n",
      "== Assassination ==\n",
      "\n",
      "On 13 July 2024, he was targeted in an Israeli strike in the al-Mawasi neighborhood of Khan Yunis in the southern Gaza Strip. According to reports from the Gaza Ministry of Health, at least 90 Palestinians were killed and over 300 injured as a result of the attack. The IDF reported that one of Deif's associates and a mastermind of the 7 October attack, the Khan Yunis Brigade commander Rafa Salama, was among the dead. In relation to Deif, the IDF stated that there were signs that he too had been killed, but they were unable to officially confirm that. Reportedly, a dead body suspected to belong to Deif was recovered from the site but was too badly disfigured to be identified. On 1 August 2024, the IDF announced it had confirmed that Deif died in the 13 July strike. Two weeks after the IDF announced its confirmation, Hamas denied that Deif was killed, with senior Hamas official Osama Hamdan stating in an interview with the Associated Press that Deif was still alive.\n",
      "In October 2024, Hamas again called Deif's death a lie, while issuing a statement denying the death of Yahya Sinwar. The next day Hamas acknowledged Sinwar's death without making any additional comments about Deif's status. In early November, the London-based Saudi newspaper Asharq Al-Awsat reported that Hamas has privately acknowledged Deif's death, but Hamas released a statement denying the newspaper's report.\n",
      "On November 21, 2024 the International Criminal Court issued an arrest warrant for Mohammed Deif, arguing that it was unable to determine whether Deif had been killed and that the warrant would be withdrawn upon confirmation of his death. \n",
      "On December 4, 2024, Israeli news channel Kan 11, citing Palestinian sources, reported that Hamas had located Deif's body and buried it in secret. According to the report, Hamas maintained secrecy over Deif's death due to fears that confirming it would lower the morale of its fighters, and buried him in an undisclosed location due to fears that if Israel discovered the location of his grave, the IDF would dig it up and take his body to use as a bargaining chip in a hostage deal.\n",
      "On January 30, 2025, the Qassam Brigades, through their spokesperson Abu Ubeida, confirmed that Mohammed Deif, along with six other senior Hamas commanders, died as a result of the Gaza war. Along with the confirmation, Hamas also officially released a photo of Deif for the first time, as his photo had previously been classified. About a month after Hamas confirmed Deif's death, in February 2025, the International Criminal Court cancelled the outstanding arrest warrant.\n",
      "\n",
      "\n",
      "== Public image ==\n",
      "Deif, the nom de guerre that Mohammed al-Masri took, means 'guest' in Arabic. This was said to refer to Deif staying in a different house each night as a precaution against Israeli attacks. Another explanation said that the name comes from a theatre role he played in his earlier years. He was also known by his kunya Abu Khaled.\n",
      "Prior to the Gaza war, only two photos of Deif's face were known to publicly exist, with the most recent one having been taken in the year 2000. He never appeared in public, and he rarely gave recorded audio addresses. His whereabouts were often unknown, but it was speculated that he had stayed in the underground tunnel networks in Gaza. In January 2024, the IDF released a photo of Deif holding a cup of juice in one hand and a stack of U.S. dollars in the other hand. The photo was found in a computer that Israel seized from Hamas.\n",
      "In spite of his elusiveness, he was popular amongst Palestinians for his hardline stance against Israel, to the point of being a 'folk hero' for having survived many assassination attempts; he was nicknamed 'the mastermind' by Palestinians. As a sign of his popularity, his name was featured in protest slogans such as: \"Put the sword before the sword, we are the men of Mohammed Deif.\" His position as a military leader rather than a political one also shielded him from criticism of the Hamas administration of the Gaza Strip.\n",
      "After acknowledging his death, Hamas began using photos of Deif at ceremonies for the release of the hostages to the custody of the Red Cross as part of the 2025 Gaza war ceasefire agreement.\n",
      "\n",
      "\n",
      "== Personal life ==\n",
      "Deif married Widad Asfoura in 2007. Widad, their infant son Ali, and their three-year-old daughter Sarah were killed in the 2014 assassination attempt. They had two other children: Omar, who was injured, and Hala, who was missing for more than two days.  Deif had two other sons, Bahaa and Khaled.\n",
      "Deif's mother died in 2011, and his father in 2022.\n",
      "His family came to the Gaza Strip from further away than most members of Hamas; before 1948 his family lived in al-Qubayba  in Central Palestine.\n",
      "\n",
      "\n",
      "== See also ==\n",
      "13 July 2024 al-Mawasi attack\n",
      "Deif family killings\n",
      "Ismail Haniyeh\n",
      "Marwan Issa\n",
      "\n",
      "\n",
      "== Notes ==\n",
      "\n",
      "\n",
      "== References ==\n",
      "\n",
      "\n",
      "== Further reading ==\n",
      "Detailed profile in Arabic from Al Jazeera Arabic\n",
      "\n",
      "\n",
      "== External links ==\n",
      " Media related to Mohammed Deif at Wikimedia Commons\n"
     ]
    }
   ],
   "source": [
    "print(text_document2)"
   ]
  },
  {
   "cell_type": "code",
   "execution_count": 21,
   "id": "d9bb143f",
   "metadata": {},
   "outputs": [],
   "source": [
    "documents = [text_document1,text_document2]\n",
    "metadata = [{\"document\":query_1},{\"document\":query_2}]"
   ]
  },
  {
   "cell_type": "markdown",
   "id": "b794827f",
   "metadata": {},
   "source": [
    "### 1. Characters"
   ]
  },
  {
   "cell_type": "code",
   "execution_count": 22,
   "id": "4f34cdb9",
   "metadata": {},
   "outputs": [],
   "source": [
    "from langchain.text_splitter import CharacterTextSplitter\n",
    "text_splitter = CharacterTextSplitter(\n",
    "    separator=\"\",\n",
    "    chunk_size=100,\n",
    "    chunk_overlap=30,\n",
    "    length_function = len\n",
    ")"
   ]
  },
  {
   "cell_type": "code",
   "execution_count": 23,
   "id": "2abc0560",
   "metadata": {},
   "outputs": [],
   "source": [
    "normal_chunks = text_splitter.create_documents(documents,metadatas=metadata)"
   ]
  },
  {
   "cell_type": "code",
   "execution_count": 24,
   "id": "c41f1e8f",
   "metadata": {},
   "outputs": [
    {
     "data": {
      "text/plain": [
       "550"
      ]
     },
     "execution_count": 24,
     "metadata": {},
     "output_type": "execute_result"
    }
   ],
   "source": [
    "len(normal_chunks)"
   ]
  },
  {
   "cell_type": "code",
   "execution_count": 25,
   "id": "6a43be24",
   "metadata": {},
   "outputs": [
    {
     "name": "stdout",
     "output_type": "stream",
     "text": [
      "page_content='Yahya Ibrahim Hassan Sinwar (Arabic: يحيى إبراهيم حسن السنوار, romanized: Yaḥyá Ibrāhīm Ḥasan al-Sin' metadata={'document': 'Yahya Sinwar'}\n"
     ]
    }
   ],
   "source": [
    "print(normal_chunks[0])"
   ]
  },
  {
   "cell_type": "code",
   "execution_count": 26,
   "id": "143b8c65",
   "metadata": {},
   "outputs": [
    {
     "name": "stdout",
     "output_type": "stream",
     "text": [
      "page_content='ed: Yaḥyá Ibrāhīm Ḥasan al-Sinwār; 29 October 1962 – 16 October 2024) was a Palestinian militant and' metadata={'document': 'Yahya Sinwar'}\n"
     ]
    }
   ],
   "source": [
    "print(normal_chunks[1])"
   ]
  },
  {
   "cell_type": "code",
   "execution_count": 27,
   "id": "aa5ae854",
   "metadata": {},
   "outputs": [
    {
     "name": "stdout",
     "output_type": "stream",
     "text": [
      "page_content='was a Palestinian militant and politician who served as fourth chairman of the Hamas Political Burea' metadata={'document': 'Yahya Sinwar'}\n"
     ]
    }
   ],
   "source": [
    "print(normal_chunks[2])"
   ]
  },
  {
   "cell_type": "markdown",
   "id": "d8fac36d",
   "metadata": {},
   "source": [
    "### 2. NLTK"
   ]
  },
  {
   "cell_type": "code",
   "execution_count": 28,
   "id": "16aa93ba",
   "metadata": {},
   "outputs": [
    {
     "name": "stderr",
     "output_type": "stream",
     "text": [
      "[nltk_data] Downloading package punkt to\n",
      "[nltk_data]     C:\\Users\\mo3az\\AppData\\Roaming\\nltk_data...\n",
      "[nltk_data]   Package punkt is already up-to-date!\n"
     ]
    },
    {
     "data": {
      "text/plain": [
       "True"
      ]
     },
     "execution_count": 28,
     "metadata": {},
     "output_type": "execute_result"
    }
   ],
   "source": [
    "from langchain.text_splitter import NLTKTextSplitter\n",
    "import nltk\n",
    "nltk.download(\"punkt\")"
   ]
  },
  {
   "cell_type": "code",
   "execution_count": 29,
   "id": "e0c7489e",
   "metadata": {},
   "outputs": [],
   "source": [
    "text_splitter = NLTKTextSplitter(\n",
    "    chunk_size = 500\n",
    ")"
   ]
  },
  {
   "cell_type": "code",
   "execution_count": 30,
   "id": "ce675d2d",
   "metadata": {},
   "outputs": [
    {
     "name": "stderr",
     "output_type": "stream",
     "text": [
      "Created a chunk of size 537, which is longer than the specified 500\n"
     ]
    }
   ],
   "source": [
    "nltk_chunks = text_splitter.create_documents(documents,metadatas=metadata)"
   ]
  },
  {
   "cell_type": "code",
   "execution_count": 31,
   "id": "8a4e2b68",
   "metadata": {},
   "outputs": [
    {
     "data": {
      "text/plain": [
       "124"
      ]
     },
     "execution_count": 31,
     "metadata": {},
     "output_type": "execute_result"
    }
   ],
   "source": [
    "len(nltk_chunks)"
   ]
  },
  {
   "cell_type": "code",
   "execution_count": 32,
   "id": "1be1ca6a",
   "metadata": {},
   "outputs": [
    {
     "name": "stdout",
     "output_type": "stream",
     "text": [
      "He also developed strong ties with Iran.\n",
      "\n",
      "Re-elected as Hamas leader in 2021, Sinwar survived an assassination attempt by Israel that same year.\n",
      "\n",
      "He was widely regarded as the mastermind behind the October 7 attacks in 2023, which was followed by the Gaza war that spilled over to other parts of the Middle East.\n"
     ]
    }
   ],
   "source": [
    "print(nltk_chunks[5].page_content)"
   ]
  },
  {
   "cell_type": "code",
   "execution_count": 33,
   "id": "ea6af77a",
   "metadata": {},
   "outputs": [
    {
     "name": "stdout",
     "output_type": "stream",
     "text": [
      "{'document': 'Yahya Sinwar'}\n"
     ]
    }
   ],
   "source": [
    "print(nltk_chunks[5].metadata)"
   ]
  },
  {
   "cell_type": "markdown",
   "id": "f50767f3",
   "metadata": {},
   "source": [
    "### 4. Transformers Tokens"
   ]
  },
  {
   "cell_type": "code",
   "execution_count": 34,
   "id": "bf48c685",
   "metadata": {},
   "outputs": [
    {
     "name": "stderr",
     "output_type": "stream",
     "text": [
      "e:\\Study\\LLM\\.venv\\Lib\\site-packages\\tqdm\\auto.py:21: TqdmWarning: IProgress not found. Please update jupyter and ipywidgets. See https://ipywidgets.readthedocs.io/en/stable/user_install.html\n",
      "  from .autonotebook import tqdm as notebook_tqdm\n"
     ]
    }
   ],
   "source": [
    "from transformers import AutoTokenizer\n",
    "tokenizer = AutoTokenizer.from_pretrained(\"openai/gpt-oss-20b\")"
   ]
  },
  {
   "cell_type": "code",
   "execution_count": 35,
   "id": "8148658c",
   "metadata": {},
   "outputs": [],
   "source": [
    "text_splitter = CharacterTextSplitter.from_huggingface_tokenizer(tokenizer=tokenizer,chunk_size=400,chunk_overlap=0)"
   ]
  },
  {
   "cell_type": "code",
   "execution_count": 36,
   "id": "89e020c8",
   "metadata": {},
   "outputs": [
    {
     "name": "stderr",
     "output_type": "stream",
     "text": [
      "Created a chunk of size 545, which is longer than the specified 400\n",
      "Created a chunk of size 1748, which is longer than the specified 400\n",
      "Created a chunk of size 746, which is longer than the specified 400\n",
      "Created a chunk of size 599, which is longer than the specified 400\n",
      "Created a chunk of size 609, which is longer than the specified 400\n",
      "Created a chunk of size 563, which is longer than the specified 400\n"
     ]
    }
   ],
   "source": [
    "chunks = text_splitter.create_documents(documents,metadatas=metadata)\n"
   ]
  },
  {
   "cell_type": "code",
   "execution_count": 37,
   "id": "9eeee213",
   "metadata": {},
   "outputs": [
    {
     "name": "stdout",
     "output_type": "stream",
     "text": [
      "Yahya Ibrahim Hassan Sinwar (Arabic: يحيى إبراهيم حسن السنوار, romanized: Yaḥyá Ibrāhīm Ḥasan al-Sinwār; 29 October 1962 – 16 October 2024) was a Palestinian militant and politician who served as fourth chairman of the Hamas Political Bureau from August 2024, and as the second leader of Hamas in the Gaza Strip from February 2017, succeeding Ismail Haniyeh in both roles. He was killed in a clash with the Israel Defense Forces (IDF) in October 2024.\n",
      "Sinwar was born in the Khan Yunis refugee camp in Egyptian-occupied Gaza in 1962 to a family who had been expelled or fled from Majdal 'Asqalan during the 1948 Palestine War. He finished his studies at the Islamic University of Gaza, where he received a bachelor's degree in Arabic studies. In 1989, Sinwar was sentenced to four life sentences in Israel for orchestrating the abduction and killing of two Israeli soldiers and four Palestinians he considered to be collaborators. He spent 22 years in prison until his release among 1,026 others in a 2011 prisoner exchange for Israeli soldier Gilad Shalit. During his time in prison, Sinwar continued to coordinate the military activities of Hamas. Sinwar was one of the co-founders of the security apparatus of Hamas.\n",
      "In 2017, Sinwar was elected as the leader of Hamas in Gaza and claimed to pursue \"peaceful, popular resistance\" the following year, supporting the 2018–2019 Gaza border protests, though he was also reported to have been dedicated to eradicating Israel and was said to have seen military confrontation as the only path to \"liberating Palestine\", saying that this would be achieved \"by force, not negotiations\". He also developed strong ties with Iran. Re-elected as Hamas leader in 2021, Sinwar survived an assassination attempt by Israel that same year. He was widely regarded as the mastermind behind the October 7 attacks in 2023, which was followed by the Gaza war that spilled over to other parts of the Middle East.\n",
      "Hamas and the Izz ad-Din al-Qassam Brigades have been designated terrorist organisations by the United States, the European Union, and other countries, and in September 2015, Sinwar was specifically designated a terrorist by the United States government. In May 2024, Karim Khan, the prosecutor of the International Criminal Court, announced his intention to apply for an arrest warrant for Sinwar for war crimes and crimes against humanity, as part of the ICC investigation in Palestine.\n"
     ]
    }
   ],
   "source": [
    "print(chunks[0].page_content)"
   ]
  },
  {
   "cell_type": "markdown",
   "id": "fd13d5ff",
   "metadata": {},
   "source": [
    "-------\n",
    "## Embedding"
   ]
  },
  {
   "cell_type": "markdown",
   "id": "c1d1cc0f",
   "metadata": {},
   "source": [
    "### 1. Hugging Face"
   ]
  },
  {
   "cell_type": "markdown",
   "id": "9a30a6cb",
   "metadata": {},
   "source": [
    "!pip install sentence-transformers"
   ]
  },
  {
   "cell_type": "code",
   "execution_count": 38,
   "id": "9a6cb1ec",
   "metadata": {},
   "outputs": [
    {
     "name": "stderr",
     "output_type": "stream",
     "text": [
      "C:\\Users\\mo3az\\AppData\\Local\\Temp\\ipykernel_5252\\196171014.py:2: LangChainDeprecationWarning: The class `HuggingFaceEmbeddings` was deprecated in LangChain 0.2.2 and will be removed in 1.0. An updated version of the class exists in the :class:`~langchain-huggingface package and should be used instead. To use it run `pip install -U :class:`~langchain-huggingface` and import as `from :class:`~langchain_huggingface import HuggingFaceEmbeddings``.\n",
      "  model = SentenceTransformerEmbeddings(model_name=\"intfloat/multilingual-e5-small\")\n"
     ]
    }
   ],
   "source": [
    "from langchain.embeddings import SentenceTransformerEmbeddings\n",
    "model = SentenceTransformerEmbeddings(model_name=\"intfloat/multilingual-e5-small\")"
   ]
  },
  {
   "cell_type": "code",
   "execution_count": 39,
   "id": "32a2d437",
   "metadata": {},
   "outputs": [],
   "source": [
    "chunks = [\"Hi how are you?\",\"Good Morning\"]\n",
    "embeddings = model.embed_documents(chunks)"
   ]
  },
  {
   "cell_type": "code",
   "execution_count": 40,
   "id": "c6e91adf",
   "metadata": {},
   "outputs": [
    {
     "name": "stdout",
     "output_type": "stream",
     "text": [
      "384\n"
     ]
    }
   ],
   "source": [
    "print(len(embeddings[0]))"
   ]
  },
  {
   "cell_type": "code",
   "execution_count": 41,
   "id": "742dd19e",
   "metadata": {},
   "outputs": [
    {
     "name": "stderr",
     "output_type": "stream",
     "text": [
      "Created a chunk of size 545, which is longer than the specified 400\n",
      "Created a chunk of size 1748, which is longer than the specified 400\n",
      "Created a chunk of size 746, which is longer than the specified 400\n",
      "Created a chunk of size 599, which is longer than the specified 400\n",
      "Created a chunk of size 609, which is longer than the specified 400\n",
      "Created a chunk of size 563, which is longer than the specified 400\n"
     ]
    }
   ],
   "source": [
    "chunks = text_splitter.create_documents(documents,metadatas=metadata)"
   ]
  },
  {
   "cell_type": "code",
   "execution_count": 42,
   "id": "fde15285",
   "metadata": {},
   "outputs": [],
   "source": [
    "docs_text = [chunk.page_content for chunk in chunks]\n",
    "docs_embeddings = model.embed_documents(docs_text)"
   ]
  },
  {
   "cell_type": "code",
   "execution_count": 43,
   "id": "2c112f00",
   "metadata": {},
   "outputs": [
    {
     "name": "stdout",
     "output_type": "stream",
     "text": [
      "19\n",
      "19\n",
      "384\n"
     ]
    }
   ],
   "source": [
    "print(len(docs_embeddings))\n",
    "print(len(docs_text))\n",
    "print(len(docs_embeddings[0]))"
   ]
  },
  {
   "cell_type": "code",
   "execution_count": 44,
   "id": "222a9513",
   "metadata": {},
   "outputs": [],
   "source": [
    "question = \"When Yahya Sinwar born?\"\n",
    "question_embedding = model.embed_query(question)"
   ]
  },
  {
   "cell_type": "markdown",
   "id": "551eece9",
   "metadata": {},
   "source": [
    "### 2. Cohere"
   ]
  },
  {
   "cell_type": "markdown",
   "id": "baf014f7",
   "metadata": {},
   "source": [
    "!pip install cohere"
   ]
  },
  {
   "cell_type": "code",
   "execution_count": 45,
   "id": "09acbdb1",
   "metadata": {},
   "outputs": [],
   "source": [
    "from dotenv import dotenv_values\n",
    "env_values = dotenv_values(\"app.env\")\n",
    "cohere_api_key = env_values[\"COHERE_API_KEY\"]"
   ]
  },
  {
   "cell_type": "code",
   "execution_count": 46,
   "id": "dab465c7",
   "metadata": {},
   "outputs": [],
   "source": [
    "from langchain_cohere import CohereEmbeddings\n",
    "embedding_llm = CohereEmbeddings(cohere_api_key=cohere_api_key,model=\"embed-english-v3.0\")"
   ]
  },
  {
   "cell_type": "code",
   "execution_count": 47,
   "id": "9876a5ca",
   "metadata": {},
   "outputs": [],
   "source": [
    "docs_embeddings = embedding_llm.embed_documents(docs_text)"
   ]
  },
  {
   "cell_type": "code",
   "execution_count": 48,
   "id": "cd5adfc7",
   "metadata": {},
   "outputs": [
    {
     "data": {
      "text/plain": [
       "1024"
      ]
     },
     "execution_count": 48,
     "metadata": {},
     "output_type": "execute_result"
    }
   ],
   "source": [
    "len(docs_embeddings[0])"
   ]
  },
  {
   "cell_type": "code",
   "execution_count": 49,
   "id": "4a960c4e",
   "metadata": {},
   "outputs": [],
   "source": [
    "question = \"When Yahya Sinwar born?\"\n",
    "question_embedding = embedding_llm.embed_query(question)"
   ]
  },
  {
   "cell_type": "markdown",
   "id": "9d4c6202",
   "metadata": {},
   "source": [
    "----------\n",
    "## Vector Stores"
   ]
  },
  {
   "cell_type": "markdown",
   "id": "845a676f",
   "metadata": {},
   "source": [
    "### 1. FAISS"
   ]
  },
  {
   "cell_type": "markdown",
   "id": "2ab9b57a",
   "metadata": {},
   "source": [
    "!pip install faiss-cpu"
   ]
  },
  {
   "cell_type": "code",
   "execution_count": 50,
   "id": "bb39ae00",
   "metadata": {},
   "outputs": [],
   "source": [
    "from langchain.vectorstores import FAISS\n",
    "vector_db = FAISS.from_documents(chunks,embedding_llm)"
   ]
  },
  {
   "cell_type": "code",
   "execution_count": 51,
   "id": "4dd89f36",
   "metadata": {},
   "outputs": [],
   "source": [
    "query = \"When Yahya Sinwar born?\"\n",
    "similar_docs = vector_db.similarity_search(query=query)"
   ]
  },
  {
   "cell_type": "code",
   "execution_count": 52,
   "id": "d2c62831",
   "metadata": {},
   "outputs": [
    {
     "name": "stdout",
     "output_type": "stream",
     "text": [
      "page_content='== Early life and education ==\n",
      "Yahya Ibrahim Hassan al-Sinwar was born on 29 October 1962, in the Khan Yunis refugee camp, when the Gaza Strip was under Egyptian occupation, where he spent his early years. His family were forcibly expelled from Majdal Asqalan (Arabic: مدينة المجدل, romanized: Medīnat al-Majdal), now known as Ashkelon, during the Nakba, and sought refuge in the Gaza Strip. Sinwar, discussing his refugee upbringing, tied it to his Hamas involvement in conversations with fellow prisoners during his later imprisonment. According to Esmat Mansour, another inmate, Sinwar was deeply affected by the communal living conditions and food distribution in the refugee camp. After he graduated from high school at Khan Yunis Secondary School for Boys, he went on to the Islamic University of Gaza, where he received a bachelor's degree in Arabic studies. His younger brother is Mohammed Sinwar, a military leader of Hamas. Sinwar was a hafiz (a title given to those who have completely memorized the Quran).' metadata={'document': 'Yahya Sinwar'}\n"
     ]
    }
   ],
   "source": [
    "print(similar_docs[0])"
   ]
  },
  {
   "cell_type": "markdown",
   "id": "1dd3b6c9",
   "metadata": {},
   "source": [
    "### 2. Chroma"
   ]
  },
  {
   "cell_type": "markdown",
   "id": "2723c897",
   "metadata": {},
   "source": [
    "!pip install chromadb"
   ]
  },
  {
   "cell_type": "code",
   "execution_count": 53,
   "id": "93b2e431",
   "metadata": {},
   "outputs": [],
   "source": [
    "from langchain.vectorstores import Chroma\n",
    "\n",
    "save_to_dir = \"wiki_chroma_db\"\n",
    "\n",
    "docs_ids = list(range(len(chunks)))\n",
    "docs_ids = list(map(str,docs_ids))\n",
    "vector_db = Chroma.from_documents(chunks,embedding_llm,persist_directory=save_to_dir,ids=docs_ids)"
   ]
  },
  {
   "cell_type": "code",
   "execution_count": 54,
   "id": "10932140",
   "metadata": {},
   "outputs": [],
   "source": [
    "query = \"In which year Yahya Sinwar died?\"\n",
    "similar_docs = vector_db.similarity_search(query=query,k=3,filter={\"document\":\"Yahya Sinwar\"})"
   ]
  },
  {
   "cell_type": "code",
   "execution_count": 55,
   "id": "4fedcd84",
   "metadata": {},
   "outputs": [
    {
     "name": "stdout",
     "output_type": "stream",
     "text": [
      "page_content='Yahya Ibrahim Hassan Sinwar (Arabic: يحيى إبراهيم حسن السنوار, romanized: Yaḥyá Ibrāhīm Ḥasan al-Sinwār; 29 October 1962 – 16 October 2024) was a Palestinian militant and politician who served as fourth chairman of the Hamas Political Bureau from August 2024, and as the second leader of Hamas in the Gaza Strip from February 2017, succeeding Ismail Haniyeh in both roles. He was killed in a clash with the Israel Defense Forces (IDF) in October 2024.\n",
      "Sinwar was born in the Khan Yunis refugee camp in Egyptian-occupied Gaza in 1962 to a family who had been expelled or fled from Majdal 'Asqalan during the 1948 Palestine War. He finished his studies at the Islamic University of Gaza, where he received a bachelor's degree in Arabic studies. In 1989, Sinwar was sentenced to four life sentences in Israel for orchestrating the abduction and killing of two Israeli soldiers and four Palestinians he considered to be collaborators. He spent 22 years in prison until his release among 1,026 others in a 2011 prisoner exchange for Israeli soldier Gilad Shalit. During his time in prison, Sinwar continued to coordinate the military activities of Hamas. Sinwar was one of the co-founders of the security apparatus of Hamas.\n",
      "In 2017, Sinwar was elected as the leader of Hamas in Gaza and claimed to pursue \"peaceful, popular resistance\" the following year, supporting the 2018–2019 Gaza border protests, though he was also reported to have been dedicated to eradicating Israel and was said to have seen military confrontation as the only path to \"liberating Palestine\", saying that this would be achieved \"by force, not negotiations\". He also developed strong ties with Iran. Re-elected as Hamas leader in 2021, Sinwar survived an assassination attempt by Israel that same year. He was widely regarded as the mastermind behind the October 7 attacks in 2023, which was followed by the Gaza war that spilled over to other parts of the Middle East.\n",
      "Hamas and the Izz ad-Din al-Qassam Brigades have been designated terrorist organisations by the United States, the European Union, and other countries, and in September 2015, Sinwar was specifically designated a terrorist by the United States government. In May 2024, Karim Khan, the prosecutor of the International Criminal Court, announced his intention to apply for an arrest warrant for Sinwar for war crimes and crimes against humanity, as part of the ICC investigation in Palestine.' metadata={'document': 'Yahya Sinwar'}\n"
     ]
    }
   ],
   "source": [
    "print(similar_docs[0])"
   ]
  },
  {
   "cell_type": "code",
   "execution_count": 56,
   "id": "e66b26e2",
   "metadata": {},
   "outputs": [
    {
     "name": "stderr",
     "output_type": "stream",
     "text": [
      "C:\\Users\\mo3az\\AppData\\Local\\Temp\\ipykernel_5252\\4244046862.py:2: LangChainDeprecationWarning: Since Chroma 0.4.x the manual persistence method is no longer supported as docs are automatically persisted.\n",
      "  vector_db.persist()\n"
     ]
    }
   ],
   "source": [
    "# Save\n",
    "vector_db.persist()"
   ]
  },
  {
   "cell_type": "code",
   "execution_count": 57,
   "id": "6e86216b",
   "metadata": {},
   "outputs": [
    {
     "name": "stderr",
     "output_type": "stream",
     "text": [
      "C:\\Users\\mo3az\\AppData\\Local\\Temp\\ipykernel_5252\\1524798955.py:2: LangChainDeprecationWarning: The class `Chroma` was deprecated in LangChain 0.2.9 and will be removed in 1.0. An updated version of the class exists in the :class:`~langchain-chroma package and should be used instead. To use it run `pip install -U :class:`~langchain-chroma` and import as `from :class:`~langchain_chroma import Chroma``.\n",
      "  loaded_vector_db = Chroma(\n"
     ]
    }
   ],
   "source": [
    "# Load from disk\n",
    "loaded_vector_db = Chroma(\n",
    "    persist_directory=save_to_dir,\n",
    "    embedding_function=embedding_llm\n",
    ")"
   ]
  },
  {
   "cell_type": "code",
   "execution_count": 58,
   "id": "4f5b0a82",
   "metadata": {},
   "outputs": [],
   "source": [
    "query = \"In which year Yahya Sinwar died?\"\n",
    "similar_docs = loaded_vector_db.similarity_search(query=query,k=3,filter={\"document\":\"Yahya Sinwar\"})"
   ]
  },
  {
   "cell_type": "code",
   "execution_count": 59,
   "id": "87183e54",
   "metadata": {},
   "outputs": [
    {
     "name": "stdout",
     "output_type": "stream",
     "text": [
      "page_content='Yahya Ibrahim Hassan Sinwar (Arabic: يحيى إبراهيم حسن السنوار, romanized: Yaḥyá Ibrāhīm Ḥasan al-Sinwār; 29 October 1962 – 16 October 2024) was a Palestinian militant and politician who served as fourth chairman of the Hamas Political Bureau from August 2024, and as the second leader of Hamas in the Gaza Strip from February 2017, succeeding Ismail Haniyeh in both roles. He was killed in a clash with the Israel Defense Forces (IDF) in October 2024.\n",
      "Sinwar was born in the Khan Yunis refugee camp in Egyptian-occupied Gaza in 1962 to a family who had been expelled or fled from Majdal 'Asqalan during the 1948 Palestine War. He finished his studies at the Islamic University of Gaza, where he received a bachelor's degree in Arabic studies. In 1989, Sinwar was sentenced to four life sentences in Israel for orchestrating the abduction and killing of two Israeli soldiers and four Palestinians he considered to be collaborators. He spent 22 years in prison until his release among 1,026 others in a 2011 prisoner exchange for Israeli soldier Gilad Shalit. During his time in prison, Sinwar continued to coordinate the military activities of Hamas. Sinwar was one of the co-founders of the security apparatus of Hamas.\n",
      "In 2017, Sinwar was elected as the leader of Hamas in Gaza and claimed to pursue \"peaceful, popular resistance\" the following year, supporting the 2018–2019 Gaza border protests, though he was also reported to have been dedicated to eradicating Israel and was said to have seen military confrontation as the only path to \"liberating Palestine\", saying that this would be achieved \"by force, not negotiations\". He also developed strong ties with Iran. Re-elected as Hamas leader in 2021, Sinwar survived an assassination attempt by Israel that same year. He was widely regarded as the mastermind behind the October 7 attacks in 2023, which was followed by the Gaza war that spilled over to other parts of the Middle East.\n",
      "Hamas and the Izz ad-Din al-Qassam Brigades have been designated terrorist organisations by the United States, the European Union, and other countries, and in September 2015, Sinwar was specifically designated a terrorist by the United States government. In May 2024, Karim Khan, the prosecutor of the International Criminal Court, announced his intention to apply for an arrest warrant for Sinwar for war crimes and crimes against humanity, as part of the ICC investigation in Palestine.' metadata={'document': 'Yahya Sinwar'}\n"
     ]
    }
   ],
   "source": [
    "print(similar_docs[0])"
   ]
  },
  {
   "cell_type": "markdown",
   "id": "d18a00a6",
   "metadata": {},
   "source": [
    "## Answering the query"
   ]
  },
  {
   "cell_type": "markdown",
   "id": "c334ea5d",
   "metadata": {},
   "source": [
    "### 1. Stuff context"
   ]
  },
  {
   "cell_type": "code",
   "execution_count": 60,
   "id": "db5c2538",
   "metadata": {},
   "outputs": [],
   "source": [
    "from langchain_ollama import OllamaLLM\n",
    "from langchain.prompts import PromptTemplate\n",
    "from langchain.chains.question_answering import load_qa_chain\n",
    "llm = OllamaLLM(model=\"mistral\")\n",
    "\n",
    "template_message = \"\\n\".join([\n",
    "    \"Answer the following Question using the provided Context\",\n",
    "    \"If No Answer in the context return 'No Answers Found'\",\n",
    "    \"# Context\",\n",
    "    \"{context}\",\n",
    "    \"# Question\",\n",
    "    \"{query}\",\n",
    "    \"# Answer\"\n",
    "])\n",
    "qna_prompt = PromptTemplate(\n",
    "    template=template_message,\n",
    "    input_variables=[\"context\",\"query\"]\n",
    ")\n",
    "\n",
    "\n",
    "query = \"In which year Yahya Sinwar died?\"\n",
    "\n",
    "\n"
   ]
  },
  {
   "cell_type": "code",
   "execution_count": 61,
   "id": "629e7f21",
   "metadata": {},
   "outputs": [
    {
     "name": "stderr",
     "output_type": "stream",
     "text": [
      "C:\\Users\\mo3az\\AppData\\Local\\Temp\\ipykernel_5252\\3695595872.py:1: LangChainDeprecationWarning: This class is deprecated. See the following migration guides for replacements based on `chain_type`:\n",
      "stuff: https://python.langchain.com/docs/versions/migrating_chains/stuff_docs_chain\n",
      "map_reduce: https://python.langchain.com/docs/versions/migrating_chains/map_reduce_chain\n",
      "refine: https://python.langchain.com/docs/versions/migrating_chains/refine_chain\n",
      "map_rerank: https://python.langchain.com/docs/versions/migrating_chains/map_rerank_docs_chain\n",
      "\n",
      "See also guides on retrieval and question-answering here: https://python.langchain.com/docs/how_to/#qa-with-rag\n",
      "  stuff_chain = load_qa_chain(llm=llm,chain_type=\"stuff\",prompt=qna_prompt)\n"
     ]
    }
   ],
   "source": [
    "stuff_chain = load_qa_chain(llm=llm,chain_type=\"stuff\",prompt=qna_prompt)"
   ]
  },
  {
   "cell_type": "code",
   "execution_count": 63,
   "id": "4b4cf1c3",
   "metadata": {},
   "outputs": [],
   "source": [
    "answer = stuff_chain(\n",
    "    {\n",
    "        \"input_documents\":similar_docs,\n",
    "        \"query\":query\n",
    "    },\n",
    "    return_only_outputs=True\n",
    ")"
   ]
  },
  {
   "cell_type": "code",
   "execution_count": 64,
   "id": "ac1dddf5",
   "metadata": {},
   "outputs": [
    {
     "name": "stdout",
     "output_type": "stream",
     "text": [
      "{'output_text': ' Yahya Sinwar died in October 2024.'}\n"
     ]
    }
   ],
   "source": [
    "print(answer)"
   ]
  },
  {
   "cell_type": "markdown",
   "id": "02221d37",
   "metadata": {},
   "source": [
    "### 2. MapReduce"
   ]
  },
  {
   "cell_type": "code",
   "execution_count": 65,
   "id": "ef8dc483",
   "metadata": {},
   "outputs": [],
   "source": [
    "qna_template = \"\\n\".join([\n",
    "    \"Answer the next question using the provided context\",\n",
    "    \"If the answer is not contained in the context say 'No Answer Is Available'\",\n",
    "    \"# Context:\",\n",
    "    \"{context}\",\n",
    "    \"\",\n",
    "    \"# Question:\",\n",
    "    \"{query}\",\n",
    "    \"\",\n",
    "    \"# Answer:\"\n",
    "])\n",
    "\n",
    "qna_prompt = PromptTemplate(template=qna_template,input_variables=[\"context\",\"query\"])"
   ]
  },
  {
   "cell_type": "code",
   "execution_count": 88,
   "id": "71b6c491",
   "metadata": {},
   "outputs": [],
   "source": [
    "combine_template = \"\\n\".join([\n",
    "    \"Given intermediate contexts for a question, generate a final answer\",\n",
    "    \"If the answer not contained in the intermediate contexts say 'No Answer Is Available' \",\n",
    "    \"No Introduction, No Conlusion, and Direct Answer\"\n",
    "    \"# Summaries:\",\n",
    "    \"{summaries}\",\n",
    "    \"\",\n",
    "    \"# Question:\",\n",
    "    \"{query}\",\n",
    "    \"\",\n",
    "    \"# Final Answer:\"\n",
    "])\n",
    "\n",
    "combine_prompt = PromptTemplate(template=combine_template,input_variables=[\"summaries\",\"query\"])"
   ]
  },
  {
   "cell_type": "code",
   "execution_count": 89,
   "id": "575835af",
   "metadata": {},
   "outputs": [],
   "source": [
    "query = \"Why is Mohamed Dief Known by Dief?\"\n",
    "\n",
    "similar_docs = vector_db.similarity_search(query=query,k=5)"
   ]
  },
  {
   "cell_type": "code",
   "execution_count": 90,
   "id": "f4b225e1",
   "metadata": {},
   "outputs": [],
   "source": [
    "map_reduce_chain = load_qa_chain(\n",
    "    llm=llm,\n",
    "    chain_type=\"map_reduce\",\n",
    "    question_prompt = qna_prompt,\n",
    "    combine_prompt = combine_prompt\n",
    "    )"
   ]
  },
  {
   "cell_type": "code",
   "execution_count": 91,
   "id": "c91650c3",
   "metadata": {},
   "outputs": [],
   "source": [
    "final_answer = map_reduce_chain(\n",
    "    {\n",
    "        \"input_documents\":similar_docs,\n",
    "        \"query\":query\n",
    "    },\n",
    "    return_only_outputs=True\n",
    ")"
   ]
  },
  {
   "cell_type": "code",
   "execution_count": 92,
   "id": "1417b10e",
   "metadata": {},
   "outputs": [
    {
     "name": "stdout",
     "output_type": "stream",
     "text": [
      " Mohamed Deif is known as Dief because it is a nom de guerre he took, and 'Dief' means 'guest' in Arabic. Another explanation suggests that the name comes from a theatre role he played in his earlier years. Additionally, he is sometimes referred to as Deif due to his nickname, which was given to him because he survived at least seven Israeli assassination attempts, earning him the nickname 'the cat with nine lives' among his Israeli adversaries.\n"
     ]
    }
   ],
   "source": [
    "print(final_answer[\"output_text\"])"
   ]
  },
  {
   "cell_type": "markdown",
   "id": "d6f04fac",
   "metadata": {},
   "source": [
    "### 3. Refine"
   ]
  },
  {
   "cell_type": "code",
   "execution_count": 95,
   "id": "883f15b8",
   "metadata": {},
   "outputs": [],
   "source": [
    "initial_qna_template = \"\\n\".join([\n",
    "    \"Answer the following question using only this\",\n",
    "    \"# Context:\",\n",
    "    \"{context_str}\",\n",
    "    \"\",\n",
    "    \"# Question:\",\n",
    "    \"{question}\",\n",
    "    \"\",\n",
    "    \"# Answer:\"\n",
    "])\n",
    "\n",
    "initial_qna_prompt = PromptTemplate(\n",
    "    template=initial_qna_template,\n",
    "    input_variables=[\"context_str\",\"question\"]\n",
    ")\n",
    "\n",
    "refine_template = \"\\n\".join([\n",
    "    \"Refine the existing answer, if required, with the following context.\",\n",
    "    \"If answer is not available say 'No Answer Found For This Context' \",\n",
    "    \"# Context:\",\n",
    "    \"{context_str}\",\n",
    "    \"\",\n",
    "    \"# Existing Answer:\",\n",
    "    \"{existing_answer}\",\n",
    "    \"\",\n",
    "    \"# Question:\",\n",
    "    \"{question}\",\n",
    "    \"\",\n",
    "    \"# Refined Answer:\"\n",
    "])\n",
    "\n",
    "refine_prompt = PromptTemplate(\n",
    "    template=refine_template,\n",
    "    input_variables=[\"context_str\",\"existing_answer\",\"question\"]\n",
    ")"
   ]
  },
  {
   "cell_type": "code",
   "execution_count": 96,
   "id": "e2e9380f",
   "metadata": {},
   "outputs": [],
   "source": [
    "refine_chain = load_qa_chain(\n",
    "    llm = llm,\n",
    "    chain_type=\"refine\",\n",
    "    question_prompt = initial_qna_prompt,\n",
    "    refine_prompt=refine_prompt\n",
    ")"
   ]
  },
  {
   "cell_type": "code",
   "execution_count": 98,
   "id": "11440294",
   "metadata": {},
   "outputs": [],
   "source": [
    "refined_answer = refine_chain(\n",
    "    {\n",
    "        \"input_documents\":similar_docs,\n",
    "        \"question\":query\n",
    "    }, return_only_outputs=True\n",
    ")"
   ]
  },
  {
   "cell_type": "code",
   "execution_count": 99,
   "id": "5f7fb0f3",
   "metadata": {},
   "outputs": [
    {
     "name": "stdout",
     "output_type": "stream",
     "text": [
      " Mohamed Deif, colloquially known as \"Dief,\" earned this nickname due to its translation to \"guest\" in Arabic. This moniker was given to him because of his practice of frequently staying in different houses each night as a precaution against Israeli attacks. Another possible explanation is that the name originated from a theater role he played during his younger years, which also involved portraying guests or transient characters. Deif, a prominent member of Hamas, joined the organization during the First Intifada and was involved in various militant activities, including suicide bombings and the kidnapping and killing of Israeli soldiers. His frequent changes of location as a means of evading capture by Israeli authorities contributed to his nickname \"Dief.\" Tragically, Deif lost his wife Widad Asfoura, their infant son Ali, and three-year-old daughter Sarah in an assassination attempt in 2014, leaving behind two other children: Omar and Hala. He also had two other sons, Bahaa and Khaled. Deif's family originated from al-Qubayba, Central Palestine before the establishment of Israel in 1948. His mother passed away in 2011, and his father died in 2022.\n"
     ]
    }
   ],
   "source": [
    "print(refined_answer[\"output_text\"])"
   ]
  },
  {
   "cell_type": "code",
   "execution_count": null,
   "id": "e41372e0",
   "metadata": {},
   "outputs": [],
   "source": []
  }
 ],
 "metadata": {
  "kernelspec": {
   "display_name": ".venv",
   "language": "python",
   "name": "python3"
  },
  "language_info": {
   "codemirror_mode": {
    "name": "ipython",
    "version": 3
   },
   "file_extension": ".py",
   "mimetype": "text/x-python",
   "name": "python",
   "nbconvert_exporter": "python",
   "pygments_lexer": "ipython3",
   "version": "3.12.9"
  }
 },
 "nbformat": 4,
 "nbformat_minor": 5
}
